{
 "cells": [
  {
   "cell_type": "markdown",
   "metadata": {},
   "source": [
    "### A little EDA to get a better grasp on the data"
   ]
  },
  {
   "cell_type": "code",
   "execution_count": 1,
   "metadata": {},
   "outputs": [
    {
     "name": "stdout",
     "output_type": "stream",
     "text": [
      "Requirement already satisfied: seaborn in /opt/miniconda3/envs/genAIbot/lib/python3.8/site-packages (0.13.2)\n",
      "Requirement already satisfied: numpy!=1.24.0,>=1.20 in /opt/miniconda3/envs/genAIbot/lib/python3.8/site-packages (from seaborn) (1.24.4)\n",
      "Requirement already satisfied: pandas>=1.2 in /opt/miniconda3/envs/genAIbot/lib/python3.8/site-packages (from seaborn) (2.0.3)\n",
      "Requirement already satisfied: matplotlib!=3.6.1,>=3.4 in /opt/miniconda3/envs/genAIbot/lib/python3.8/site-packages (from seaborn) (3.7.5)\n",
      "Requirement already satisfied: contourpy>=1.0.1 in /opt/miniconda3/envs/genAIbot/lib/python3.8/site-packages (from matplotlib!=3.6.1,>=3.4->seaborn) (1.1.1)\n",
      "Requirement already satisfied: cycler>=0.10 in /opt/miniconda3/envs/genAIbot/lib/python3.8/site-packages (from matplotlib!=3.6.1,>=3.4->seaborn) (0.12.1)\n",
      "Requirement already satisfied: fonttools>=4.22.0 in /opt/miniconda3/envs/genAIbot/lib/python3.8/site-packages (from matplotlib!=3.6.1,>=3.4->seaborn) (4.53.1)\n",
      "Requirement already satisfied: kiwisolver>=1.0.1 in /opt/miniconda3/envs/genAIbot/lib/python3.8/site-packages (from matplotlib!=3.6.1,>=3.4->seaborn) (1.4.5)\n",
      "Requirement already satisfied: packaging>=20.0 in /opt/miniconda3/envs/genAIbot/lib/python3.8/site-packages (from matplotlib!=3.6.1,>=3.4->seaborn) (24.1)\n",
      "Requirement already satisfied: pillow>=6.2.0 in /opt/miniconda3/envs/genAIbot/lib/python3.8/site-packages (from matplotlib!=3.6.1,>=3.4->seaborn) (10.4.0)\n",
      "Requirement already satisfied: pyparsing>=2.3.1 in /opt/miniconda3/envs/genAIbot/lib/python3.8/site-packages (from matplotlib!=3.6.1,>=3.4->seaborn) (3.1.2)\n",
      "Requirement already satisfied: python-dateutil>=2.7 in /opt/miniconda3/envs/genAIbot/lib/python3.8/site-packages (from matplotlib!=3.6.1,>=3.4->seaborn) (2.9.0)\n",
      "Requirement already satisfied: importlib-resources>=3.2.0 in /opt/miniconda3/envs/genAIbot/lib/python3.8/site-packages (from matplotlib!=3.6.1,>=3.4->seaborn) (6.4.0)\n",
      "Requirement already satisfied: pytz>=2020.1 in /opt/miniconda3/envs/genAIbot/lib/python3.8/site-packages (from pandas>=1.2->seaborn) (2024.1)\n",
      "Requirement already satisfied: tzdata>=2022.1 in /opt/miniconda3/envs/genAIbot/lib/python3.8/site-packages (from pandas>=1.2->seaborn) (2024.1)\n",
      "Requirement already satisfied: zipp>=3.1.0 in /opt/miniconda3/envs/genAIbot/lib/python3.8/site-packages (from importlib-resources>=3.2.0->matplotlib!=3.6.1,>=3.4->seaborn) (3.19.2)\n",
      "Requirement already satisfied: six>=1.5 in /opt/miniconda3/envs/genAIbot/lib/python3.8/site-packages (from python-dateutil>=2.7->matplotlib!=3.6.1,>=3.4->seaborn) (1.16.0)\n"
     ]
    }
   ],
   "source": [
    "! pip install seaborn"
   ]
  },
  {
   "cell_type": "code",
   "execution_count": 2,
   "metadata": {},
   "outputs": [],
   "source": [
    "import numpy as np\n",
    "import pandas as pd\n",
    "import seaborn as sns\n",
    "from matplotlib import pyplot as plt\n",
    "from tqdm.notebook import tqdm\n",
    "\n",
    "article_df = pd.read_csv('dataset/article.csv')\n",
    "customer_df = pd.read_csv('dataset/customer.csv')\n",
    "departement_df = pd.read_csv('dataset/department.csv')\n",
    "product_df = pd.read_csv('dataset/product.csv')\n",
    "transaction_df = pd.read_csv('dataset/transaction.csv')\n"
   ]
  },
  {
   "cell_type": "markdown",
   "metadata": {},
   "source": [
    "## Articles"
   ]
  },
  {
   "cell_type": "code",
   "execution_count": 3,
   "metadata": {},
   "outputs": [
    {
     "data": {
      "text/html": [
       "<div>\n",
       "<style scoped>\n",
       "    .dataframe tbody tr th:only-of-type {\n",
       "        vertical-align: middle;\n",
       "    }\n",
       "\n",
       "    .dataframe tbody tr th {\n",
       "        vertical-align: top;\n",
       "    }\n",
       "\n",
       "    .dataframe thead th {\n",
       "        text-align: right;\n",
       "    }\n",
       "</style>\n",
       "<table border=\"1\" class=\"dataframe\">\n",
       "  <thead>\n",
       "    <tr style=\"text-align: right;\">\n",
       "      <th></th>\n",
       "      <th>articleId</th>\n",
       "      <th>productCode</th>\n",
       "      <th>departmentNo</th>\n",
       "      <th>prodName</th>\n",
       "      <th>productTypeName</th>\n",
       "      <th>graphicalAppearanceNo</th>\n",
       "      <th>graphicalAppearanceName</th>\n",
       "      <th>colourGroupCode</th>\n",
       "      <th>colourGroupName</th>\n",
       "    </tr>\n",
       "  </thead>\n",
       "  <tbody>\n",
       "    <tr>\n",
       "      <th>0</th>\n",
       "      <td>108775015</td>\n",
       "      <td>108775</td>\n",
       "      <td>1676</td>\n",
       "      <td>Strap top</td>\n",
       "      <td>Vest top</td>\n",
       "      <td>1010016</td>\n",
       "      <td>Solid</td>\n",
       "      <td>9</td>\n",
       "      <td>Black</td>\n",
       "    </tr>\n",
       "    <tr>\n",
       "      <th>1</th>\n",
       "      <td>108775044</td>\n",
       "      <td>108775</td>\n",
       "      <td>1676</td>\n",
       "      <td>Strap top</td>\n",
       "      <td>Vest top</td>\n",
       "      <td>1010016</td>\n",
       "      <td>Solid</td>\n",
       "      <td>10</td>\n",
       "      <td>White</td>\n",
       "    </tr>\n",
       "    <tr>\n",
       "      <th>2</th>\n",
       "      <td>110065001</td>\n",
       "      <td>110065</td>\n",
       "      <td>1339</td>\n",
       "      <td>OP T-shirt (Idro)</td>\n",
       "      <td>Bra</td>\n",
       "      <td>1010016</td>\n",
       "      <td>Solid</td>\n",
       "      <td>9</td>\n",
       "      <td>Black</td>\n",
       "    </tr>\n",
       "    <tr>\n",
       "      <th>3</th>\n",
       "      <td>111565001</td>\n",
       "      <td>111565</td>\n",
       "      <td>3608</td>\n",
       "      <td>20 den 1p Stockings</td>\n",
       "      <td>Underwear Tights</td>\n",
       "      <td>1010016</td>\n",
       "      <td>Solid</td>\n",
       "      <td>9</td>\n",
       "      <td>Black</td>\n",
       "    </tr>\n",
       "    <tr>\n",
       "      <th>4</th>\n",
       "      <td>111586001</td>\n",
       "      <td>111586</td>\n",
       "      <td>3608</td>\n",
       "      <td>Shape Up 30 den 1p Tights</td>\n",
       "      <td>Leggings/Tights</td>\n",
       "      <td>1010016</td>\n",
       "      <td>Solid</td>\n",
       "      <td>9</td>\n",
       "      <td>Black</td>\n",
       "    </tr>\n",
       "  </tbody>\n",
       "</table>\n",
       "</div>"
      ],
      "text/plain": [
       "   articleId  productCode  departmentNo                   prodName  \\\n",
       "0  108775015       108775          1676                  Strap top   \n",
       "1  108775044       108775          1676                  Strap top   \n",
       "2  110065001       110065          1339          OP T-shirt (Idro)   \n",
       "3  111565001       111565          3608        20 den 1p Stockings   \n",
       "4  111586001       111586          3608  Shape Up 30 den 1p Tights   \n",
       "\n",
       "    productTypeName  graphicalAppearanceNo graphicalAppearanceName  \\\n",
       "0          Vest top                1010016                   Solid   \n",
       "1          Vest top                1010016                   Solid   \n",
       "2               Bra                1010016                   Solid   \n",
       "3  Underwear Tights                1010016                   Solid   \n",
       "4   Leggings/Tights                1010016                   Solid   \n",
       "\n",
       "   colourGroupCode colourGroupName  \n",
       "0                9           Black  \n",
       "1               10           White  \n",
       "2                9           Black  \n",
       "3                9           Black  \n",
       "4                9           Black  "
      ]
     },
     "execution_count": 3,
     "metadata": {},
     "output_type": "execute_result"
    }
   ],
   "source": [
    "article_df.head()"
   ]
  },
  {
   "cell_type": "code",
   "execution_count": 4,
   "metadata": {},
   "outputs": [
    {
     "name": "stdout",
     "output_type": "stream",
     "text": [
      "TOTAL NUMBER OF ROWS: 13351\n",
      "how many unique article: 13351\n",
      "how many unique product: 8044\n"
     ]
    }
   ],
   "source": [
    "print('TOTAL NUMBER OF ROWS:', len(article_df))\n",
    "print('how many unique article:', article_df['articleId'].nunique())\n",
    "print('how many unique product:', article_df['productCode'].nunique())\n"
   ]
  },
  {
   "cell_type": "markdown",
   "metadata": {},
   "source": [
    "## Products"
   ]
  },
  {
   "cell_type": "code",
   "execution_count": 5,
   "metadata": {},
   "outputs": [
    {
     "data": {
      "text/html": [
       "<div>\n",
       "<style scoped>\n",
       "    .dataframe tbody tr th:only-of-type {\n",
       "        vertical-align: middle;\n",
       "    }\n",
       "\n",
       "    .dataframe tbody tr th {\n",
       "        vertical-align: top;\n",
       "    }\n",
       "\n",
       "    .dataframe thead th {\n",
       "        text-align: right;\n",
       "    }\n",
       "</style>\n",
       "<table border=\"1\" class=\"dataframe\">\n",
       "  <thead>\n",
       "    <tr style=\"text-align: right;\">\n",
       "      <th></th>\n",
       "      <th>productCode</th>\n",
       "      <th>prodName</th>\n",
       "      <th>productTypeNo</th>\n",
       "      <th>productTypeName</th>\n",
       "      <th>productGroupName</th>\n",
       "      <th>garmentGroupNo</th>\n",
       "      <th>garmentGroupName</th>\n",
       "      <th>detailDesc</th>\n",
       "    </tr>\n",
       "  </thead>\n",
       "  <tbody>\n",
       "    <tr>\n",
       "      <th>0</th>\n",
       "      <td>108775</td>\n",
       "      <td>Strap top</td>\n",
       "      <td>253</td>\n",
       "      <td>Vest top</td>\n",
       "      <td>Garment Upper body</td>\n",
       "      <td>1002</td>\n",
       "      <td>Jersey Basic</td>\n",
       "      <td>Jersey top with narrow shoulder straps.</td>\n",
       "    </tr>\n",
       "    <tr>\n",
       "      <th>1</th>\n",
       "      <td>110065</td>\n",
       "      <td>OP T-shirt (Idro)</td>\n",
       "      <td>306</td>\n",
       "      <td>Bra</td>\n",
       "      <td>Underwear</td>\n",
       "      <td>1017</td>\n",
       "      <td>Under-, Nightwear</td>\n",
       "      <td>Microfibre T-shirt bra with underwired, moulde...</td>\n",
       "    </tr>\n",
       "    <tr>\n",
       "      <th>2</th>\n",
       "      <td>111565</td>\n",
       "      <td>20 den 1p Stockings</td>\n",
       "      <td>304</td>\n",
       "      <td>Underwear Tights</td>\n",
       "      <td>Socks &amp; Tights</td>\n",
       "      <td>1021</td>\n",
       "      <td>Socks and Tights</td>\n",
       "      <td>Semi shiny nylon stockings with a wide, reinfo...</td>\n",
       "    </tr>\n",
       "    <tr>\n",
       "      <th>3</th>\n",
       "      <td>111586</td>\n",
       "      <td>Shape Up 30 den 1p Tights</td>\n",
       "      <td>273</td>\n",
       "      <td>Leggings/Tights</td>\n",
       "      <td>Garment Lower body</td>\n",
       "      <td>1021</td>\n",
       "      <td>Socks and Tights</td>\n",
       "      <td>Tights with built-in support to lift the botto...</td>\n",
       "    </tr>\n",
       "    <tr>\n",
       "      <th>4</th>\n",
       "      <td>111593</td>\n",
       "      <td>Support 40 den 1p Tights</td>\n",
       "      <td>304</td>\n",
       "      <td>Underwear Tights</td>\n",
       "      <td>Socks &amp; Tights</td>\n",
       "      <td>1021</td>\n",
       "      <td>Socks and Tights</td>\n",
       "      <td>Semi shiny tights that shape the tummy, thighs...</td>\n",
       "    </tr>\n",
       "  </tbody>\n",
       "</table>\n",
       "</div>"
      ],
      "text/plain": [
       "   productCode                   prodName  productTypeNo   productTypeName  \\\n",
       "0       108775                  Strap top            253          Vest top   \n",
       "1       110065          OP T-shirt (Idro)            306               Bra   \n",
       "2       111565        20 den 1p Stockings            304  Underwear Tights   \n",
       "3       111586  Shape Up 30 den 1p Tights            273   Leggings/Tights   \n",
       "4       111593   Support 40 den 1p Tights            304  Underwear Tights   \n",
       "\n",
       "     productGroupName  garmentGroupNo   garmentGroupName  \\\n",
       "0  Garment Upper body            1002       Jersey Basic   \n",
       "1           Underwear            1017  Under-, Nightwear   \n",
       "2      Socks & Tights            1021   Socks and Tights   \n",
       "3  Garment Lower body            1021   Socks and Tights   \n",
       "4      Socks & Tights            1021   Socks and Tights   \n",
       "\n",
       "                                          detailDesc  \n",
       "0            Jersey top with narrow shoulder straps.  \n",
       "1  Microfibre T-shirt bra with underwired, moulde...  \n",
       "2  Semi shiny nylon stockings with a wide, reinfo...  \n",
       "3  Tights with built-in support to lift the botto...  \n",
       "4  Semi shiny tights that shape the tummy, thighs...  "
      ]
     },
     "execution_count": 5,
     "metadata": {},
     "output_type": "execute_result"
    }
   ],
   "source": [
    "product_df.head()"
   ]
  },
  {
   "cell_type": "code",
   "execution_count": 6,
   "metadata": {},
   "outputs": [
    {
     "name": "stdout",
     "output_type": "stream",
     "text": [
      "TOTAL NUMBER OF ROWS: 8044\n",
      "how many unique article: 8044\n",
      "how many unique description: 7684\n",
      "how many unique product type: 99 == names: 98\n",
      "looking for null values:\n"
     ]
    }
   ],
   "source": [
    "print('TOTAL NUMBER OF ROWS:', len(product_df))\n",
    "print('how many unique article:', product_df['productCode'].nunique())\n",
    "print('how many unique description:', product_df['detailDesc'].nunique())\n",
    "print('how many unique product type:', product_df['productTypeNo'].nunique(), '== names:', product_df['productTypeName'].nunique())\n",
    "print('looking for null values:' )\n",
    "\n",
    "    "
   ]
  },
  {
   "cell_type": "markdown",
   "metadata": {},
   "source": [
    "### Department"
   ]
  },
  {
   "cell_type": "code",
   "execution_count": 7,
   "metadata": {},
   "outputs": [
    {
     "data": {
      "text/html": [
       "<div>\n",
       "<style scoped>\n",
       "    .dataframe tbody tr th:only-of-type {\n",
       "        vertical-align: middle;\n",
       "    }\n",
       "\n",
       "    .dataframe tbody tr th {\n",
       "        vertical-align: top;\n",
       "    }\n",
       "\n",
       "    .dataframe thead th {\n",
       "        text-align: right;\n",
       "    }\n",
       "</style>\n",
       "<table border=\"1\" class=\"dataframe\">\n",
       "  <thead>\n",
       "    <tr style=\"text-align: right;\">\n",
       "      <th></th>\n",
       "      <th>departmentNo</th>\n",
       "      <th>departmentName</th>\n",
       "      <th>sectionNo</th>\n",
       "      <th>sectionName</th>\n",
       "    </tr>\n",
       "  </thead>\n",
       "  <tbody>\n",
       "    <tr>\n",
       "      <th>0</th>\n",
       "      <td>1676</td>\n",
       "      <td>Jersey Basic</td>\n",
       "      <td>16</td>\n",
       "      <td>Womens Everyday Basics</td>\n",
       "    </tr>\n",
       "    <tr>\n",
       "      <th>1</th>\n",
       "      <td>1339</td>\n",
       "      <td>Clean Lingerie</td>\n",
       "      <td>61</td>\n",
       "      <td>Womens Lingerie</td>\n",
       "    </tr>\n",
       "    <tr>\n",
       "      <th>2</th>\n",
       "      <td>3608</td>\n",
       "      <td>Tights basic</td>\n",
       "      <td>62</td>\n",
       "      <td>Womens Nightwear, Socks &amp; Tigh</td>\n",
       "    </tr>\n",
       "    <tr>\n",
       "      <th>3</th>\n",
       "      <td>5883</td>\n",
       "      <td>Jersey Basic</td>\n",
       "      <td>26</td>\n",
       "      <td>Men Underwear</td>\n",
       "    </tr>\n",
       "    <tr>\n",
       "      <th>4</th>\n",
       "      <td>2032</td>\n",
       "      <td>Jersey</td>\n",
       "      <td>8</td>\n",
       "      <td>Mama</td>\n",
       "    </tr>\n",
       "  </tbody>\n",
       "</table>\n",
       "</div>"
      ],
      "text/plain": [
       "   departmentNo  departmentName  sectionNo                     sectionName\n",
       "0          1676    Jersey Basic         16          Womens Everyday Basics\n",
       "1          1339  Clean Lingerie         61                 Womens Lingerie\n",
       "2          3608    Tights basic         62  Womens Nightwear, Socks & Tigh\n",
       "3          5883    Jersey Basic         26                   Men Underwear\n",
       "4          2032          Jersey          8                            Mama"
      ]
     },
     "execution_count": 7,
     "metadata": {},
     "output_type": "execute_result"
    }
   ],
   "source": [
    "departement_df.head()"
   ]
  },
  {
   "cell_type": "code",
   "execution_count": 8,
   "metadata": {},
   "outputs": [
    {
     "name": "stdout",
     "output_type": "stream",
     "text": [
      "TOTAL NUMBER OF ROWS: 266\n",
      "how many unique article: 266\n",
      "how many unique description: 54\n"
     ]
    },
    {
     "ename": "KeyError",
     "evalue": "'productTypeNo'",
     "output_type": "error",
     "traceback": [
      "\u001b[0;31m---------------------------------------------------------------------------\u001b[0m",
      "\u001b[0;31mKeyError\u001b[0m                                  Traceback (most recent call last)",
      "File \u001b[0;32m/opt/miniconda3/envs/genAIbot/lib/python3.8/site-packages/pandas/core/indexes/base.py:3653\u001b[0m, in \u001b[0;36mIndex.get_loc\u001b[0;34m(self, key)\u001b[0m\n\u001b[1;32m   3652\u001b[0m \u001b[38;5;28;01mtry\u001b[39;00m:\n\u001b[0;32m-> 3653\u001b[0m     \u001b[38;5;28;01mreturn\u001b[39;00m \u001b[38;5;28;43mself\u001b[39;49m\u001b[38;5;241;43m.\u001b[39;49m\u001b[43m_engine\u001b[49m\u001b[38;5;241;43m.\u001b[39;49m\u001b[43mget_loc\u001b[49m\u001b[43m(\u001b[49m\u001b[43mcasted_key\u001b[49m\u001b[43m)\u001b[49m\n\u001b[1;32m   3654\u001b[0m \u001b[38;5;28;01mexcept\u001b[39;00m \u001b[38;5;167;01mKeyError\u001b[39;00m \u001b[38;5;28;01mas\u001b[39;00m err:\n",
      "File \u001b[0;32m/opt/miniconda3/envs/genAIbot/lib/python3.8/site-packages/pandas/_libs/index.pyx:147\u001b[0m, in \u001b[0;36mpandas._libs.index.IndexEngine.get_loc\u001b[0;34m()\u001b[0m\n",
      "File \u001b[0;32m/opt/miniconda3/envs/genAIbot/lib/python3.8/site-packages/pandas/_libs/index.pyx:176\u001b[0m, in \u001b[0;36mpandas._libs.index.IndexEngine.get_loc\u001b[0;34m()\u001b[0m\n",
      "File \u001b[0;32mpandas/_libs/hashtable_class_helper.pxi:7080\u001b[0m, in \u001b[0;36mpandas._libs.hashtable.PyObjectHashTable.get_item\u001b[0;34m()\u001b[0m\n",
      "File \u001b[0;32mpandas/_libs/hashtable_class_helper.pxi:7088\u001b[0m, in \u001b[0;36mpandas._libs.hashtable.PyObjectHashTable.get_item\u001b[0;34m()\u001b[0m\n",
      "\u001b[0;31mKeyError\u001b[0m: 'productTypeNo'",
      "\nThe above exception was the direct cause of the following exception:\n",
      "\u001b[0;31mKeyError\u001b[0m                                  Traceback (most recent call last)",
      "Cell \u001b[0;32mIn[8], line 4\u001b[0m\n\u001b[1;32m      2\u001b[0m \u001b[38;5;28mprint\u001b[39m(\u001b[38;5;124m'\u001b[39m\u001b[38;5;124mhow many unique article:\u001b[39m\u001b[38;5;124m'\u001b[39m, departement_df[\u001b[38;5;124m'\u001b[39m\u001b[38;5;124mdepartmentNo\u001b[39m\u001b[38;5;124m'\u001b[39m]\u001b[38;5;241m.\u001b[39mnunique())\n\u001b[1;32m      3\u001b[0m \u001b[38;5;28mprint\u001b[39m(\u001b[38;5;124m'\u001b[39m\u001b[38;5;124mhow many unique description:\u001b[39m\u001b[38;5;124m'\u001b[39m, departement_df[\u001b[38;5;124m'\u001b[39m\u001b[38;5;124msectionName\u001b[39m\u001b[38;5;124m'\u001b[39m]\u001b[38;5;241m.\u001b[39mnunique())\n\u001b[0;32m----> 4\u001b[0m \u001b[38;5;28mprint\u001b[39m(\u001b[38;5;124m'\u001b[39m\u001b[38;5;124mhow many unique product type:\u001b[39m\u001b[38;5;124m'\u001b[39m, \u001b[43mdepartement_df\u001b[49m\u001b[43m[\u001b[49m\u001b[38;5;124;43m'\u001b[39;49m\u001b[38;5;124;43mproductTypeNo\u001b[39;49m\u001b[38;5;124;43m'\u001b[39;49m\u001b[43m]\u001b[49m\u001b[38;5;241m.\u001b[39mnunique(), \u001b[38;5;124m'\u001b[39m\u001b[38;5;124m== names:\u001b[39m\u001b[38;5;124m'\u001b[39m, product_df[\u001b[38;5;124m'\u001b[39m\u001b[38;5;124mproductTypeName\u001b[39m\u001b[38;5;124m'\u001b[39m]\u001b[38;5;241m.\u001b[39mnunique())\n\u001b[1;32m      5\u001b[0m \u001b[38;5;28mprint\u001b[39m(\u001b[38;5;124m'\u001b[39m\u001b[38;5;124mlooking for null values:\u001b[39m\u001b[38;5;124m'\u001b[39m )\n",
      "File \u001b[0;32m/opt/miniconda3/envs/genAIbot/lib/python3.8/site-packages/pandas/core/frame.py:3761\u001b[0m, in \u001b[0;36mDataFrame.__getitem__\u001b[0;34m(self, key)\u001b[0m\n\u001b[1;32m   3759\u001b[0m \u001b[38;5;28;01mif\u001b[39;00m \u001b[38;5;28mself\u001b[39m\u001b[38;5;241m.\u001b[39mcolumns\u001b[38;5;241m.\u001b[39mnlevels \u001b[38;5;241m>\u001b[39m \u001b[38;5;241m1\u001b[39m:\n\u001b[1;32m   3760\u001b[0m     \u001b[38;5;28;01mreturn\u001b[39;00m \u001b[38;5;28mself\u001b[39m\u001b[38;5;241m.\u001b[39m_getitem_multilevel(key)\n\u001b[0;32m-> 3761\u001b[0m indexer \u001b[38;5;241m=\u001b[39m \u001b[38;5;28;43mself\u001b[39;49m\u001b[38;5;241;43m.\u001b[39;49m\u001b[43mcolumns\u001b[49m\u001b[38;5;241;43m.\u001b[39;49m\u001b[43mget_loc\u001b[49m\u001b[43m(\u001b[49m\u001b[43mkey\u001b[49m\u001b[43m)\u001b[49m\n\u001b[1;32m   3762\u001b[0m \u001b[38;5;28;01mif\u001b[39;00m is_integer(indexer):\n\u001b[1;32m   3763\u001b[0m     indexer \u001b[38;5;241m=\u001b[39m [indexer]\n",
      "File \u001b[0;32m/opt/miniconda3/envs/genAIbot/lib/python3.8/site-packages/pandas/core/indexes/base.py:3655\u001b[0m, in \u001b[0;36mIndex.get_loc\u001b[0;34m(self, key)\u001b[0m\n\u001b[1;32m   3653\u001b[0m     \u001b[38;5;28;01mreturn\u001b[39;00m \u001b[38;5;28mself\u001b[39m\u001b[38;5;241m.\u001b[39m_engine\u001b[38;5;241m.\u001b[39mget_loc(casted_key)\n\u001b[1;32m   3654\u001b[0m \u001b[38;5;28;01mexcept\u001b[39;00m \u001b[38;5;167;01mKeyError\u001b[39;00m \u001b[38;5;28;01mas\u001b[39;00m err:\n\u001b[0;32m-> 3655\u001b[0m     \u001b[38;5;28;01mraise\u001b[39;00m \u001b[38;5;167;01mKeyError\u001b[39;00m(key) \u001b[38;5;28;01mfrom\u001b[39;00m \u001b[38;5;21;01merr\u001b[39;00m\n\u001b[1;32m   3656\u001b[0m \u001b[38;5;28;01mexcept\u001b[39;00m \u001b[38;5;167;01mTypeError\u001b[39;00m:\n\u001b[1;32m   3657\u001b[0m     \u001b[38;5;66;03m# If we have a listlike key, _check_indexing_error will raise\u001b[39;00m\n\u001b[1;32m   3658\u001b[0m     \u001b[38;5;66;03m#  InvalidIndexError. Otherwise we fall through and re-raise\u001b[39;00m\n\u001b[1;32m   3659\u001b[0m     \u001b[38;5;66;03m#  the TypeError.\u001b[39;00m\n\u001b[1;32m   3660\u001b[0m     \u001b[38;5;28mself\u001b[39m\u001b[38;5;241m.\u001b[39m_check_indexing_error(key)\n",
      "\u001b[0;31mKeyError\u001b[0m: 'productTypeNo'"
     ]
    }
   ],
   "source": [
    "print('TOTAL NUMBER OF ROWS:', len(departement_df))\n",
    "print('how many unique article:', departement_df['departmentNo'].nunique())\n",
    "print('how many unique description:', departement_df['sectionName'].nunique())\n",
    "print('how many unique product type:', departement_df['productTypeNo'].nunique(), '== names:', departement_df['productTypeName'].nunique())\n",
    "print('looking for null values:' )\n"
   ]
  }
 ],
 "metadata": {
  "kernelspec": {
   "display_name": "genAIbot",
   "language": "python",
   "name": "python3"
  },
  "language_info": {
   "codemirror_mode": {
    "name": "ipython",
    "version": 3
   },
   "file_extension": ".py",
   "mimetype": "text/x-python",
   "name": "python",
   "nbconvert_exporter": "python",
   "pygments_lexer": "ipython3",
   "version": "3.8.19"
  }
 },
 "nbformat": 4,
 "nbformat_minor": 2
}
