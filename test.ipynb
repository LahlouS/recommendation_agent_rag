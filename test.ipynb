{
 "cells": [
  {
   "cell_type": "markdown",
   "metadata": {},
   "source": [
    "### TESTING DATABASE CREATION AND CONNECTION"
   ]
  },
  {
   "cell_type": "code",
   "execution_count": 1,
   "metadata": {},
   "outputs": [
    {
     "name": "stdout",
     "output_type": "stream",
     "text": [
      "LOG connection to DB:\n",
      "                                            key       value\n",
      "0                                    gdsVersion      2.10.1\n",
      "1                                    gdsEdition  Unlicensed\n",
      "2                                  neo4jVersion      5.22.0\n",
      "3                    minimumRequiredJavaVersion          17\n",
      "4                        availableCompatibility  Neo4j 5.22\n",
      "..                                          ...         ...\n",
      "86                 server.memory.pagecache.size   536870912\n",
      "87  server.memory.off_heap.transaction_max_size  2147483648\n",
      "88            dbms.memory.transaction.total.max  8589934592\n",
      "89              db.memory.transaction.total.max           0\n",
      "90                    db.memory.transaction.max           0\n",
      "\n",
      "[91 rows x 2 columns]\n",
      "--------------> connection to db is OK\n",
      "LOG: db already created\n"
     ]
    }
   ],
   "source": [
    "from database.neo4jConnection_utils import db_connection, get_credential\n",
    "import database.create_db as create_db\n",
    "\n",
    "DATA_PATH = \"./dataset\"\n",
    "cred = get_credential()\n",
    "client_gds = db_connection(cred)\n",
    "\n",
    "query_test = \"\"\"\n",
    "    MATCH (n)\n",
    "    RETURN count(n) AS node_count\n",
    "\"\"\"\n",
    "\n",
    "node_count = client_gds.run_cypher(query_test).iloc[0, 0]\n",
    "if node_count == 0:\n",
    "    create_db.load_csv(DATA_PATH)\n",
    "    create_db.create_constraints(client_gds)\n",
    "    create_db.create_db(client_gds)\n",
    "else:\n",
    "    print('LOG: db already created')\n",
    "\n",
    "\n",
    "\n",
    "\n"
   ]
  },
  {
   "cell_type": "markdown",
   "metadata": {},
   "source": [
    "## TESTING CONNECTION WITH OLLAMA\n",
    "- language model api\n",
    "- embeddings\n"
   ]
  },
  {
   "cell_type": "code",
   "execution_count": 2,
   "metadata": {},
   "outputs": [],
   "source": [
    "from database.neo4jConnection_utils import get_credential\n",
    "\n",
    "cred = get_credential()"
   ]
  },
  {
   "cell_type": "code",
   "execution_count": 3,
   "metadata": {},
   "outputs": [
    {
     "name": "stdout",
     "output_type": "stream",
     "text": [
      "---------> llama3.1:8b\n",
      "***OLLAMA SANITY CHECK***\n",
      "prompt:Tell me a joke in two line \n",
      "response: Here is a two-line joke:\n",
      "\n",
      "What do you call a fake noodle?\n",
      "An impasta.\n"
     ]
    }
   ],
   "source": [
    "# OLLAMA: SEE XTERM CONSOLE ABOVE TO CHECK FOR OTHER MODEL TO PULL\n",
    "# Import Ollama module from Langchain\n",
    "from langchain_community.llms import Ollama\n",
    "LLM = cred['LLM']\n",
    "print('--------->', LLM)\n",
    "# Initialize an instance of the Ollama model\n",
    "llm = Ollama(model=LLM)\n",
    "\n",
    "test = True\n",
    "if test:\n",
    "  # Invoke the model to generate responses\n",
    "  prompt = \"Tell me a joke in two line\"\n",
    "  response = llm.invoke(prompt)\n",
    "  print(f'***OLLAMA SANITY CHECK***\\nprompt:{prompt}', '\\nresponse:', response)"
   ]
  },
  {
   "cell_type": "code",
   "execution_count": 4,
   "metadata": {},
   "outputs": [
    {
     "name": "stdout",
     "output_type": "stream",
     "text": [
      "USING OLLAMA\n"
     ]
    },
    {
     "name": "stdout",
     "output_type": "stream",
     "text": [
      "***OLLAMA EMBEDDING SANITY CHECK*****\n",
      "len(test_embedding) ->  4096\n",
      "test_embedding ->  [2.1392972469329834, -3.0549228191375732, 0.29549142718315125, 0.4371836483478546, -0.6623877286911011, -1.4102567434310913, 2.5391085147857666, 1.2455378770828247, -3.345935344696045, -0.5352067947387695]\n"
     ]
    }
   ],
   "source": [
    "from langchain_community.embeddings.ollama import OllamaEmbeddings\n",
    "\n",
    "if 'llama' in LLM:\n",
    "  embedding_model = OllamaEmbeddings(model=LLM, base_url='http://localhost:11434')\n",
    "  embedding_dimension = 4096\n",
    "  print('USING OLLAMA')\n",
    "else:\n",
    "  print('WARNING not running on llama instance')\n",
    "\n",
    "if test:\n",
    "  test_embedding = embedding_model.embed_query(\"My query to look up\")\n",
    "  print('***OLLAMA EMBEDDING SANITY CHECK*****')\n",
    "  print('len(test_embedding) -> ', len(test_embedding))\n",
    "  print('test_embedding -> ', test_embedding[0:10])"
   ]
  },
  {
   "cell_type": "markdown",
   "metadata": {},
   "source": [
    "### TESTING DESCRIPTION EMBEDDING"
   ]
  },
  {
   "cell_type": "code",
   "execution_count": 6,
   "metadata": {},
   "outputs": [],
   "source": [
    "%load_ext autoreload\n",
    "%autoreload 2\n",
    "import pandas as pd\n",
    "from embeddings.utils import concat_description\n",
    "from embeddings.embed_description import embed_description\n",
    "\n",
    "product_df = pd.read_csv('dataset/product.csv')"
   ]
  },
  {
   "cell_type": "code",
   "execution_count": 7,
   "metadata": {},
   "outputs": [],
   "source": [
    "description_df = concat_description(product_df)"
   ]
  },
  {
   "cell_type": "code",
   "execution_count": 8,
   "metadata": {},
   "outputs": [
    {
     "name": "stdout",
     "output_type": "stream",
     "text": [
      "   productCode                                               text\n",
      "0       108775  \\n##Product\\nName: Strap top\\nType: Vest top\\n...\n",
      "1       110065  \\n##Product\\nName: OP T-shirt (Idro)\\nType: Br...\n",
      "2       111565  \\n##Product\\nName: 20 den 1p Stockings\\nType: ...\n",
      "3       111586  \\n##Product\\nName: Shape Up 30 den 1p Tights\\n...\n",
      "4       111593  \\n##Product\\nName: Support 40 den 1p Tights\\nT...\n"
     ]
    }
   ],
   "source": [
    "print(description_df.head())"
   ]
  },
  {
   "cell_type": "markdown",
   "metadata": {},
   "source": [
    "- the description embedding method work but it is very long to compute on local so you can find a minimaliste code here: https://colab.research.google.com/drive/1rIt-Sn3rJQc4dbTLy9-mZc-1vveUJnIT?usp=sharing\n",
    "that runs the function.\n",
    "\n",
    "- you can then export the generated csv that has the following format:\n",
    "\n",
    "productCode  |  text  |  embedding  |"
   ]
  },
  {
   "cell_type": "code",
   "execution_count": 9,
   "metadata": {},
   "outputs": [
    {
     "name": "stdout",
     "output_type": "stream",
     "text": [
      "Embedded 500 of 8018\n"
     ]
    },
    {
     "ename": "KeyboardInterrupt",
     "evalue": "",
     "output_type": "error",
     "traceback": [
      "\u001b[0;31m---------------------------------------------------------------------------\u001b[0m",
      "\u001b[0;31mKeyboardInterrupt\u001b[0m                         Traceback (most recent call last)",
      "Cell \u001b[0;32mIn[9], line 1\u001b[0m\n\u001b[0;32m----> 1\u001b[0m description_df \u001b[38;5;241m=\u001b[39m embed_description(description_df, embedding_model)\n",
      "File \u001b[0;32m~/Documents/recommendation_agent_rag/embeddings/embed_description.py:10\u001b[0m, in \u001b[0;36membed_description\u001b[0;34m(product_emb_df, embedding_model)\u001b[0m\n\u001b[1;32m      8\u001b[0m     count \u001b[38;5;241m+\u001b[39m\u001b[38;5;241m=\u001b[39m \u001b[38;5;28mlen\u001b[39m(docs)\n\u001b[1;32m      9\u001b[0m     \u001b[38;5;28mprint\u001b[39m(\u001b[38;5;124mf\u001b[39m\u001b[38;5;124m'\u001b[39m\u001b[38;5;124mEmbedded \u001b[39m\u001b[38;5;132;01m{\u001b[39;00mcount\u001b[38;5;132;01m}\u001b[39;00m\u001b[38;5;124m of \u001b[39m\u001b[38;5;132;01m{\u001b[39;00mproduct_emb_df\u001b[38;5;241m.\u001b[39mshape[\u001b[38;5;241m0\u001b[39m]\u001b[38;5;132;01m}\u001b[39;00m\u001b[38;5;124m'\u001b[39m)\n\u001b[0;32m---> 10\u001b[0m     embeddings\u001b[38;5;241m.\u001b[39mextend(embedding_model\u001b[38;5;241m.\u001b[39membed_documents(docs))\n\u001b[1;32m     11\u001b[0m \u001b[38;5;28mprint\u001b[39m(\u001b[38;5;124m\"\u001b[39m\u001b[38;5;124m<<<< text embedding finalised >>>>\u001b[39m\u001b[38;5;124m\"\u001b[39m)\n\u001b[1;32m     12\u001b[0m product_emb_df[\u001b[38;5;124m'\u001b[39m\u001b[38;5;124mtextEmbedding\u001b[39m\u001b[38;5;124m'\u001b[39m] \u001b[38;5;241m=\u001b[39m embeddings\n",
      "File \u001b[0;32m~/miniconda3/envs/genAI/lib/python3.12/site-packages/langchain_community/embeddings/ollama.py:209\u001b[0m, in \u001b[0;36mOllamaEmbeddings.embed_documents\u001b[0;34m(self, texts)\u001b[0m\n\u001b[1;32m    200\u001b[0m \u001b[38;5;250m\u001b[39m\u001b[38;5;124;03m\"\"\"Embed documents using an Ollama deployed embedding model.\u001b[39;00m\n\u001b[1;32m    201\u001b[0m \n\u001b[1;32m    202\u001b[0m \u001b[38;5;124;03mArgs:\u001b[39;00m\n\u001b[0;32m   (...)\u001b[0m\n\u001b[1;32m    206\u001b[0m \u001b[38;5;124;03m    List of embeddings, one for each text.\u001b[39;00m\n\u001b[1;32m    207\u001b[0m \u001b[38;5;124;03m\"\"\"\u001b[39;00m\n\u001b[1;32m    208\u001b[0m instruction_pairs \u001b[38;5;241m=\u001b[39m [\u001b[38;5;124mf\u001b[39m\u001b[38;5;124m\"\u001b[39m\u001b[38;5;132;01m{\u001b[39;00m\u001b[38;5;28mself\u001b[39m\u001b[38;5;241m.\u001b[39membed_instruction\u001b[38;5;132;01m}\u001b[39;00m\u001b[38;5;132;01m{\u001b[39;00mtext\u001b[38;5;132;01m}\u001b[39;00m\u001b[38;5;124m\"\u001b[39m \u001b[38;5;28;01mfor\u001b[39;00m text \u001b[38;5;129;01min\u001b[39;00m texts]\n\u001b[0;32m--> 209\u001b[0m embeddings \u001b[38;5;241m=\u001b[39m \u001b[38;5;28mself\u001b[39m\u001b[38;5;241m.\u001b[39m_embed(instruction_pairs)\n\u001b[1;32m    210\u001b[0m \u001b[38;5;28;01mreturn\u001b[39;00m embeddings\n",
      "File \u001b[0;32m~/miniconda3/envs/genAI/lib/python3.12/site-packages/langchain_community/embeddings/ollama.py:197\u001b[0m, in \u001b[0;36mOllamaEmbeddings._embed\u001b[0;34m(self, input)\u001b[0m\n\u001b[1;32m    195\u001b[0m \u001b[38;5;28;01melse\u001b[39;00m:\n\u001b[1;32m    196\u001b[0m     iter_ \u001b[38;5;241m=\u001b[39m \u001b[38;5;28minput\u001b[39m\n\u001b[0;32m--> 197\u001b[0m \u001b[38;5;28;01mreturn\u001b[39;00m [\u001b[38;5;28mself\u001b[39m\u001b[38;5;241m.\u001b[39m_process_emb_response(prompt) \u001b[38;5;28;01mfor\u001b[39;00m prompt \u001b[38;5;129;01min\u001b[39;00m iter_]\n",
      "File \u001b[0;32m~/miniconda3/envs/genAI/lib/python3.12/site-packages/langchain_community/embeddings/ollama.py:162\u001b[0m, in \u001b[0;36mOllamaEmbeddings._process_emb_response\u001b[0;34m(self, input)\u001b[0m\n\u001b[1;32m    156\u001b[0m headers \u001b[38;5;241m=\u001b[39m {\n\u001b[1;32m    157\u001b[0m     \u001b[38;5;124m\"\u001b[39m\u001b[38;5;124mContent-Type\u001b[39m\u001b[38;5;124m\"\u001b[39m: \u001b[38;5;124m\"\u001b[39m\u001b[38;5;124mapplication/json\u001b[39m\u001b[38;5;124m\"\u001b[39m,\n\u001b[1;32m    158\u001b[0m     \u001b[38;5;241m*\u001b[39m\u001b[38;5;241m*\u001b[39m(\u001b[38;5;28mself\u001b[39m\u001b[38;5;241m.\u001b[39mheaders \u001b[38;5;129;01mor\u001b[39;00m {}),\n\u001b[1;32m    159\u001b[0m }\n\u001b[1;32m    161\u001b[0m \u001b[38;5;28;01mtry\u001b[39;00m:\n\u001b[0;32m--> 162\u001b[0m     res \u001b[38;5;241m=\u001b[39m requests\u001b[38;5;241m.\u001b[39mpost(\n\u001b[1;32m    163\u001b[0m         \u001b[38;5;124mf\u001b[39m\u001b[38;5;124m\"\u001b[39m\u001b[38;5;132;01m{\u001b[39;00m\u001b[38;5;28mself\u001b[39m\u001b[38;5;241m.\u001b[39mbase_url\u001b[38;5;132;01m}\u001b[39;00m\u001b[38;5;124m/api/embeddings\u001b[39m\u001b[38;5;124m\"\u001b[39m,\n\u001b[1;32m    164\u001b[0m         headers\u001b[38;5;241m=\u001b[39mheaders,\n\u001b[1;32m    165\u001b[0m         json\u001b[38;5;241m=\u001b[39m{\u001b[38;5;124m\"\u001b[39m\u001b[38;5;124mmodel\u001b[39m\u001b[38;5;124m\"\u001b[39m: \u001b[38;5;28mself\u001b[39m\u001b[38;5;241m.\u001b[39mmodel, \u001b[38;5;124m\"\u001b[39m\u001b[38;5;124mprompt\u001b[39m\u001b[38;5;124m\"\u001b[39m: \u001b[38;5;28minput\u001b[39m, \u001b[38;5;241m*\u001b[39m\u001b[38;5;241m*\u001b[39m\u001b[38;5;28mself\u001b[39m\u001b[38;5;241m.\u001b[39m_default_params},\n\u001b[1;32m    166\u001b[0m     )\n\u001b[1;32m    167\u001b[0m \u001b[38;5;28;01mexcept\u001b[39;00m requests\u001b[38;5;241m.\u001b[39mexceptions\u001b[38;5;241m.\u001b[39mRequestException \u001b[38;5;28;01mas\u001b[39;00m e:\n\u001b[1;32m    168\u001b[0m     \u001b[38;5;28;01mraise\u001b[39;00m \u001b[38;5;167;01mValueError\u001b[39;00m(\u001b[38;5;124mf\u001b[39m\u001b[38;5;124m\"\u001b[39m\u001b[38;5;124mError raised by inference endpoint: \u001b[39m\u001b[38;5;132;01m{\u001b[39;00me\u001b[38;5;132;01m}\u001b[39;00m\u001b[38;5;124m\"\u001b[39m)\n",
      "File \u001b[0;32m~/miniconda3/envs/genAI/lib/python3.12/site-packages/requests/api.py:115\u001b[0m, in \u001b[0;36mpost\u001b[0;34m(url, data, json, **kwargs)\u001b[0m\n\u001b[1;32m    103\u001b[0m \u001b[38;5;28;01mdef\u001b[39;00m \u001b[38;5;21mpost\u001b[39m(url, data\u001b[38;5;241m=\u001b[39m\u001b[38;5;28;01mNone\u001b[39;00m, json\u001b[38;5;241m=\u001b[39m\u001b[38;5;28;01mNone\u001b[39;00m, \u001b[38;5;241m*\u001b[39m\u001b[38;5;241m*\u001b[39mkwargs):\n\u001b[1;32m    104\u001b[0m \u001b[38;5;250m    \u001b[39m\u001b[38;5;124mr\u001b[39m\u001b[38;5;124;03m\"\"\"Sends a POST request.\u001b[39;00m\n\u001b[1;32m    105\u001b[0m \n\u001b[1;32m    106\u001b[0m \u001b[38;5;124;03m    :param url: URL for the new :class:`Request` object.\u001b[39;00m\n\u001b[0;32m   (...)\u001b[0m\n\u001b[1;32m    112\u001b[0m \u001b[38;5;124;03m    :rtype: requests.Response\u001b[39;00m\n\u001b[1;32m    113\u001b[0m \u001b[38;5;124;03m    \"\"\"\u001b[39;00m\n\u001b[0;32m--> 115\u001b[0m     \u001b[38;5;28;01mreturn\u001b[39;00m request(\u001b[38;5;124m\"\u001b[39m\u001b[38;5;124mpost\u001b[39m\u001b[38;5;124m\"\u001b[39m, url, data\u001b[38;5;241m=\u001b[39mdata, json\u001b[38;5;241m=\u001b[39mjson, \u001b[38;5;241m*\u001b[39m\u001b[38;5;241m*\u001b[39mkwargs)\n",
      "File \u001b[0;32m~/miniconda3/envs/genAI/lib/python3.12/site-packages/requests/api.py:59\u001b[0m, in \u001b[0;36mrequest\u001b[0;34m(method, url, **kwargs)\u001b[0m\n\u001b[1;32m     55\u001b[0m \u001b[38;5;66;03m# By using the 'with' statement we are sure the session is closed, thus we\u001b[39;00m\n\u001b[1;32m     56\u001b[0m \u001b[38;5;66;03m# avoid leaving sockets open which can trigger a ResourceWarning in some\u001b[39;00m\n\u001b[1;32m     57\u001b[0m \u001b[38;5;66;03m# cases, and look like a memory leak in others.\u001b[39;00m\n\u001b[1;32m     58\u001b[0m \u001b[38;5;28;01mwith\u001b[39;00m sessions\u001b[38;5;241m.\u001b[39mSession() \u001b[38;5;28;01mas\u001b[39;00m session:\n\u001b[0;32m---> 59\u001b[0m     \u001b[38;5;28;01mreturn\u001b[39;00m session\u001b[38;5;241m.\u001b[39mrequest(method\u001b[38;5;241m=\u001b[39mmethod, url\u001b[38;5;241m=\u001b[39murl, \u001b[38;5;241m*\u001b[39m\u001b[38;5;241m*\u001b[39mkwargs)\n",
      "File \u001b[0;32m~/miniconda3/envs/genAI/lib/python3.12/site-packages/requests/sessions.py:589\u001b[0m, in \u001b[0;36mSession.request\u001b[0;34m(self, method, url, params, data, headers, cookies, files, auth, timeout, allow_redirects, proxies, hooks, stream, verify, cert, json)\u001b[0m\n\u001b[1;32m    584\u001b[0m send_kwargs \u001b[38;5;241m=\u001b[39m {\n\u001b[1;32m    585\u001b[0m     \u001b[38;5;124m\"\u001b[39m\u001b[38;5;124mtimeout\u001b[39m\u001b[38;5;124m\"\u001b[39m: timeout,\n\u001b[1;32m    586\u001b[0m     \u001b[38;5;124m\"\u001b[39m\u001b[38;5;124mallow_redirects\u001b[39m\u001b[38;5;124m\"\u001b[39m: allow_redirects,\n\u001b[1;32m    587\u001b[0m }\n\u001b[1;32m    588\u001b[0m send_kwargs\u001b[38;5;241m.\u001b[39mupdate(settings)\n\u001b[0;32m--> 589\u001b[0m resp \u001b[38;5;241m=\u001b[39m \u001b[38;5;28mself\u001b[39m\u001b[38;5;241m.\u001b[39msend(prep, \u001b[38;5;241m*\u001b[39m\u001b[38;5;241m*\u001b[39msend_kwargs)\n\u001b[1;32m    591\u001b[0m \u001b[38;5;28;01mreturn\u001b[39;00m resp\n",
      "File \u001b[0;32m~/miniconda3/envs/genAI/lib/python3.12/site-packages/requests/sessions.py:703\u001b[0m, in \u001b[0;36mSession.send\u001b[0;34m(self, request, **kwargs)\u001b[0m\n\u001b[1;32m    700\u001b[0m start \u001b[38;5;241m=\u001b[39m preferred_clock()\n\u001b[1;32m    702\u001b[0m \u001b[38;5;66;03m# Send the request\u001b[39;00m\n\u001b[0;32m--> 703\u001b[0m r \u001b[38;5;241m=\u001b[39m adapter\u001b[38;5;241m.\u001b[39msend(request, \u001b[38;5;241m*\u001b[39m\u001b[38;5;241m*\u001b[39mkwargs)\n\u001b[1;32m    705\u001b[0m \u001b[38;5;66;03m# Total elapsed time of the request (approximately)\u001b[39;00m\n\u001b[1;32m    706\u001b[0m elapsed \u001b[38;5;241m=\u001b[39m preferred_clock() \u001b[38;5;241m-\u001b[39m start\n",
      "File \u001b[0;32m~/miniconda3/envs/genAI/lib/python3.12/site-packages/requests/adapters.py:667\u001b[0m, in \u001b[0;36mHTTPAdapter.send\u001b[0;34m(self, request, stream, timeout, verify, cert, proxies)\u001b[0m\n\u001b[1;32m    664\u001b[0m     timeout \u001b[38;5;241m=\u001b[39m TimeoutSauce(connect\u001b[38;5;241m=\u001b[39mtimeout, read\u001b[38;5;241m=\u001b[39mtimeout)\n\u001b[1;32m    666\u001b[0m \u001b[38;5;28;01mtry\u001b[39;00m:\n\u001b[0;32m--> 667\u001b[0m     resp \u001b[38;5;241m=\u001b[39m conn\u001b[38;5;241m.\u001b[39murlopen(\n\u001b[1;32m    668\u001b[0m         method\u001b[38;5;241m=\u001b[39mrequest\u001b[38;5;241m.\u001b[39mmethod,\n\u001b[1;32m    669\u001b[0m         url\u001b[38;5;241m=\u001b[39murl,\n\u001b[1;32m    670\u001b[0m         body\u001b[38;5;241m=\u001b[39mrequest\u001b[38;5;241m.\u001b[39mbody,\n\u001b[1;32m    671\u001b[0m         headers\u001b[38;5;241m=\u001b[39mrequest\u001b[38;5;241m.\u001b[39mheaders,\n\u001b[1;32m    672\u001b[0m         redirect\u001b[38;5;241m=\u001b[39m\u001b[38;5;28;01mFalse\u001b[39;00m,\n\u001b[1;32m    673\u001b[0m         assert_same_host\u001b[38;5;241m=\u001b[39m\u001b[38;5;28;01mFalse\u001b[39;00m,\n\u001b[1;32m    674\u001b[0m         preload_content\u001b[38;5;241m=\u001b[39m\u001b[38;5;28;01mFalse\u001b[39;00m,\n\u001b[1;32m    675\u001b[0m         decode_content\u001b[38;5;241m=\u001b[39m\u001b[38;5;28;01mFalse\u001b[39;00m,\n\u001b[1;32m    676\u001b[0m         retries\u001b[38;5;241m=\u001b[39m\u001b[38;5;28mself\u001b[39m\u001b[38;5;241m.\u001b[39mmax_retries,\n\u001b[1;32m    677\u001b[0m         timeout\u001b[38;5;241m=\u001b[39mtimeout,\n\u001b[1;32m    678\u001b[0m         chunked\u001b[38;5;241m=\u001b[39mchunked,\n\u001b[1;32m    679\u001b[0m     )\n\u001b[1;32m    681\u001b[0m \u001b[38;5;28;01mexcept\u001b[39;00m (ProtocolError, \u001b[38;5;167;01mOSError\u001b[39;00m) \u001b[38;5;28;01mas\u001b[39;00m err:\n\u001b[1;32m    682\u001b[0m     \u001b[38;5;28;01mraise\u001b[39;00m \u001b[38;5;167;01mConnectionError\u001b[39;00m(err, request\u001b[38;5;241m=\u001b[39mrequest)\n",
      "File \u001b[0;32m~/miniconda3/envs/genAI/lib/python3.12/site-packages/urllib3/connectionpool.py:789\u001b[0m, in \u001b[0;36mHTTPConnectionPool.urlopen\u001b[0;34m(self, method, url, body, headers, retries, redirect, assert_same_host, timeout, pool_timeout, release_conn, chunked, body_pos, preload_content, decode_content, **response_kw)\u001b[0m\n\u001b[1;32m    786\u001b[0m response_conn \u001b[38;5;241m=\u001b[39m conn \u001b[38;5;28;01mif\u001b[39;00m \u001b[38;5;129;01mnot\u001b[39;00m release_conn \u001b[38;5;28;01melse\u001b[39;00m \u001b[38;5;28;01mNone\u001b[39;00m\n\u001b[1;32m    788\u001b[0m \u001b[38;5;66;03m# Make the request on the HTTPConnection object\u001b[39;00m\n\u001b[0;32m--> 789\u001b[0m response \u001b[38;5;241m=\u001b[39m \u001b[38;5;28mself\u001b[39m\u001b[38;5;241m.\u001b[39m_make_request(\n\u001b[1;32m    790\u001b[0m     conn,\n\u001b[1;32m    791\u001b[0m     method,\n\u001b[1;32m    792\u001b[0m     url,\n\u001b[1;32m    793\u001b[0m     timeout\u001b[38;5;241m=\u001b[39mtimeout_obj,\n\u001b[1;32m    794\u001b[0m     body\u001b[38;5;241m=\u001b[39mbody,\n\u001b[1;32m    795\u001b[0m     headers\u001b[38;5;241m=\u001b[39mheaders,\n\u001b[1;32m    796\u001b[0m     chunked\u001b[38;5;241m=\u001b[39mchunked,\n\u001b[1;32m    797\u001b[0m     retries\u001b[38;5;241m=\u001b[39mretries,\n\u001b[1;32m    798\u001b[0m     response_conn\u001b[38;5;241m=\u001b[39mresponse_conn,\n\u001b[1;32m    799\u001b[0m     preload_content\u001b[38;5;241m=\u001b[39mpreload_content,\n\u001b[1;32m    800\u001b[0m     decode_content\u001b[38;5;241m=\u001b[39mdecode_content,\n\u001b[1;32m    801\u001b[0m     \u001b[38;5;241m*\u001b[39m\u001b[38;5;241m*\u001b[39mresponse_kw,\n\u001b[1;32m    802\u001b[0m )\n\u001b[1;32m    804\u001b[0m \u001b[38;5;66;03m# Everything went great!\u001b[39;00m\n\u001b[1;32m    805\u001b[0m clean_exit \u001b[38;5;241m=\u001b[39m \u001b[38;5;28;01mTrue\u001b[39;00m\n",
      "File \u001b[0;32m~/miniconda3/envs/genAI/lib/python3.12/site-packages/urllib3/connectionpool.py:536\u001b[0m, in \u001b[0;36mHTTPConnectionPool._make_request\u001b[0;34m(self, conn, method, url, body, headers, retries, timeout, chunked, response_conn, preload_content, decode_content, enforce_content_length)\u001b[0m\n\u001b[1;32m    534\u001b[0m \u001b[38;5;66;03m# Receive the response from the server\u001b[39;00m\n\u001b[1;32m    535\u001b[0m \u001b[38;5;28;01mtry\u001b[39;00m:\n\u001b[0;32m--> 536\u001b[0m     response \u001b[38;5;241m=\u001b[39m conn\u001b[38;5;241m.\u001b[39mgetresponse()\n\u001b[1;32m    537\u001b[0m \u001b[38;5;28;01mexcept\u001b[39;00m (BaseSSLError, \u001b[38;5;167;01mOSError\u001b[39;00m) \u001b[38;5;28;01mas\u001b[39;00m e:\n\u001b[1;32m    538\u001b[0m     \u001b[38;5;28mself\u001b[39m\u001b[38;5;241m.\u001b[39m_raise_timeout(err\u001b[38;5;241m=\u001b[39me, url\u001b[38;5;241m=\u001b[39murl, timeout_value\u001b[38;5;241m=\u001b[39mread_timeout)\n",
      "File \u001b[0;32m~/miniconda3/envs/genAI/lib/python3.12/site-packages/urllib3/connection.py:464\u001b[0m, in \u001b[0;36mHTTPConnection.getresponse\u001b[0;34m(self)\u001b[0m\n\u001b[1;32m    461\u001b[0m \u001b[38;5;28;01mfrom\u001b[39;00m \u001b[38;5;21;01m.\u001b[39;00m\u001b[38;5;21;01mresponse\u001b[39;00m \u001b[38;5;28;01mimport\u001b[39;00m HTTPResponse\n\u001b[1;32m    463\u001b[0m \u001b[38;5;66;03m# Get the response from http.client.HTTPConnection\u001b[39;00m\n\u001b[0;32m--> 464\u001b[0m httplib_response \u001b[38;5;241m=\u001b[39m \u001b[38;5;28msuper\u001b[39m()\u001b[38;5;241m.\u001b[39mgetresponse()\n\u001b[1;32m    466\u001b[0m \u001b[38;5;28;01mtry\u001b[39;00m:\n\u001b[1;32m    467\u001b[0m     assert_header_parsing(httplib_response\u001b[38;5;241m.\u001b[39mmsg)\n",
      "File \u001b[0;32m~/miniconda3/envs/genAI/lib/python3.12/http/client.py:1428\u001b[0m, in \u001b[0;36mHTTPConnection.getresponse\u001b[0;34m(self)\u001b[0m\n\u001b[1;32m   1426\u001b[0m \u001b[38;5;28;01mtry\u001b[39;00m:\n\u001b[1;32m   1427\u001b[0m     \u001b[38;5;28;01mtry\u001b[39;00m:\n\u001b[0;32m-> 1428\u001b[0m         response\u001b[38;5;241m.\u001b[39mbegin()\n\u001b[1;32m   1429\u001b[0m     \u001b[38;5;28;01mexcept\u001b[39;00m \u001b[38;5;167;01mConnectionError\u001b[39;00m:\n\u001b[1;32m   1430\u001b[0m         \u001b[38;5;28mself\u001b[39m\u001b[38;5;241m.\u001b[39mclose()\n",
      "File \u001b[0;32m~/miniconda3/envs/genAI/lib/python3.12/http/client.py:331\u001b[0m, in \u001b[0;36mHTTPResponse.begin\u001b[0;34m(self)\u001b[0m\n\u001b[1;32m    329\u001b[0m \u001b[38;5;66;03m# read until we get a non-100 response\u001b[39;00m\n\u001b[1;32m    330\u001b[0m \u001b[38;5;28;01mwhile\u001b[39;00m \u001b[38;5;28;01mTrue\u001b[39;00m:\n\u001b[0;32m--> 331\u001b[0m     version, status, reason \u001b[38;5;241m=\u001b[39m \u001b[38;5;28mself\u001b[39m\u001b[38;5;241m.\u001b[39m_read_status()\n\u001b[1;32m    332\u001b[0m     \u001b[38;5;28;01mif\u001b[39;00m status \u001b[38;5;241m!=\u001b[39m CONTINUE:\n\u001b[1;32m    333\u001b[0m         \u001b[38;5;28;01mbreak\u001b[39;00m\n",
      "File \u001b[0;32m~/miniconda3/envs/genAI/lib/python3.12/http/client.py:292\u001b[0m, in \u001b[0;36mHTTPResponse._read_status\u001b[0;34m(self)\u001b[0m\n\u001b[1;32m    291\u001b[0m \u001b[38;5;28;01mdef\u001b[39;00m \u001b[38;5;21m_read_status\u001b[39m(\u001b[38;5;28mself\u001b[39m):\n\u001b[0;32m--> 292\u001b[0m     line \u001b[38;5;241m=\u001b[39m \u001b[38;5;28mstr\u001b[39m(\u001b[38;5;28mself\u001b[39m\u001b[38;5;241m.\u001b[39mfp\u001b[38;5;241m.\u001b[39mreadline(_MAXLINE \u001b[38;5;241m+\u001b[39m \u001b[38;5;241m1\u001b[39m), \u001b[38;5;124m\"\u001b[39m\u001b[38;5;124miso-8859-1\u001b[39m\u001b[38;5;124m\"\u001b[39m)\n\u001b[1;32m    293\u001b[0m     \u001b[38;5;28;01mif\u001b[39;00m \u001b[38;5;28mlen\u001b[39m(line) \u001b[38;5;241m>\u001b[39m _MAXLINE:\n\u001b[1;32m    294\u001b[0m         \u001b[38;5;28;01mraise\u001b[39;00m LineTooLong(\u001b[38;5;124m\"\u001b[39m\u001b[38;5;124mstatus line\u001b[39m\u001b[38;5;124m\"\u001b[39m)\n",
      "File \u001b[0;32m~/miniconda3/envs/genAI/lib/python3.12/socket.py:708\u001b[0m, in \u001b[0;36mSocketIO.readinto\u001b[0;34m(self, b)\u001b[0m\n\u001b[1;32m    706\u001b[0m \u001b[38;5;28;01mwhile\u001b[39;00m \u001b[38;5;28;01mTrue\u001b[39;00m:\n\u001b[1;32m    707\u001b[0m     \u001b[38;5;28;01mtry\u001b[39;00m:\n\u001b[0;32m--> 708\u001b[0m         \u001b[38;5;28;01mreturn\u001b[39;00m \u001b[38;5;28mself\u001b[39m\u001b[38;5;241m.\u001b[39m_sock\u001b[38;5;241m.\u001b[39mrecv_into(b)\n\u001b[1;32m    709\u001b[0m     \u001b[38;5;28;01mexcept\u001b[39;00m timeout:\n\u001b[1;32m    710\u001b[0m         \u001b[38;5;28mself\u001b[39m\u001b[38;5;241m.\u001b[39m_timeout_occurred \u001b[38;5;241m=\u001b[39m \u001b[38;5;28;01mTrue\u001b[39;00m\n",
      "\u001b[0;31mKeyboardInterrupt\u001b[0m: "
     ]
    }
   ],
   "source": [
    "# description_df = embed_description(description_df, embedding_model)"
   ]
  },
  {
   "cell_type": "markdown",
   "metadata": {},
   "source": [
    "### LOADING THE EMBEDDINGS INTO THE DATABASE\n",
    "- for this two steps:\n",
    "    - run cypher query on every embbeding and push them to the matching product code\n",
    "    - create a vector index wich allow you to run the neo4j built in function to retrieve vectors based on similarity coefficient"
   ]
  },
  {
   "cell_type": "code",
   "execution_count": 6,
   "metadata": {},
   "outputs": [],
   "source": [
    "import pandas as pd\n",
    "import ast\n",
    "product_embedding = pd.read_csv('dataset/product_embedding.csv')\n",
    "\n"
   ]
  },
  {
   "cell_type": "code",
   "execution_count": 7,
   "metadata": {},
   "outputs": [
    {
     "name": "stdout",
     "output_type": "stream",
     "text": [
      "0    [0.5340319275856018, -0.47775566577911377, -0....\n",
      "1    [2.1701207160949707, -0.5895195603370667, 0.98...\n",
      "2    [2.6462013721466064, -1.6008479595184326, 0.05...\n",
      "3    [1.896992802619934, -1.3056349754333496, -0.85...\n",
      "4    [2.645840644836426, -1.0651317834854126, 0.135...\n",
      "Name: textEmbedding, dtype: object\n",
      "<class 'list'>\n",
      "<class 'float'>\n"
     ]
    }
   ],
   "source": [
    "# Convert the string representation to a list of floats\n",
    "product_embedding['textEmbedding'] = product_embedding['textEmbedding'].apply(lambda x: [float(i) for i in ast.literal_eval(x)])\n",
    "\n",
    "# Verify the conversion\n",
    "print(product_embedding['textEmbedding'].head())\n",
    "print(type(product_embedding['textEmbedding'].iloc[0]))\n",
    "print(type(product_embedding['textEmbedding'].iloc[0][0]))"
   ]
  },
  {
   "cell_type": "code",
   "execution_count": 8,
   "metadata": {},
   "outputs": [
    {
     "data": {
      "text/html": [
       "<div>\n",
       "<style scoped>\n",
       "    .dataframe tbody tr th:only-of-type {\n",
       "        vertical-align: middle;\n",
       "    }\n",
       "\n",
       "    .dataframe tbody tr th {\n",
       "        vertical-align: top;\n",
       "    }\n",
       "\n",
       "    .dataframe thead th {\n",
       "        text-align: right;\n",
       "    }\n",
       "</style>\n",
       "<table border=\"1\" class=\"dataframe\">\n",
       "  <thead>\n",
       "    <tr style=\"text-align: right;\">\n",
       "      <th></th>\n",
       "      <th>productCode</th>\n",
       "      <th>text</th>\n",
       "      <th>textEmbedding</th>\n",
       "    </tr>\n",
       "  </thead>\n",
       "  <tbody>\n",
       "    <tr>\n",
       "      <th>0</th>\n",
       "      <td>108775</td>\n",
       "      <td>\\n##Product\\nName: Strap top\\nType: Vest top\\n...</td>\n",
       "      <td>[0.5340319275856018, -0.47775566577911377, -0....</td>\n",
       "    </tr>\n",
       "    <tr>\n",
       "      <th>1</th>\n",
       "      <td>110065</td>\n",
       "      <td>\\n##Product\\nName: OP T-shirt (Idro)\\nType: Br...</td>\n",
       "      <td>[2.1701207160949707, -0.5895195603370667, 0.98...</td>\n",
       "    </tr>\n",
       "    <tr>\n",
       "      <th>2</th>\n",
       "      <td>111565</td>\n",
       "      <td>\\n##Product\\nName: 20 den 1p Stockings\\nType: ...</td>\n",
       "      <td>[2.6462013721466064, -1.6008479595184326, 0.05...</td>\n",
       "    </tr>\n",
       "    <tr>\n",
       "      <th>3</th>\n",
       "      <td>111586</td>\n",
       "      <td>\\n##Product\\nName: Shape Up 30 den 1p Tights\\n...</td>\n",
       "      <td>[1.896992802619934, -1.3056349754333496, -0.85...</td>\n",
       "    </tr>\n",
       "    <tr>\n",
       "      <th>4</th>\n",
       "      <td>111593</td>\n",
       "      <td>\\n##Product\\nName: Support 40 den 1p Tights\\nT...</td>\n",
       "      <td>[2.645840644836426, -1.0651317834854126, 0.135...</td>\n",
       "    </tr>\n",
       "  </tbody>\n",
       "</table>\n",
       "</div>"
      ],
      "text/plain": [
       "   productCode                                               text  \\\n",
       "0       108775  \\n##Product\\nName: Strap top\\nType: Vest top\\n...   \n",
       "1       110065  \\n##Product\\nName: OP T-shirt (Idro)\\nType: Br...   \n",
       "2       111565  \\n##Product\\nName: 20 den 1p Stockings\\nType: ...   \n",
       "3       111586  \\n##Product\\nName: Shape Up 30 den 1p Tights\\n...   \n",
       "4       111593  \\n##Product\\nName: Support 40 den 1p Tights\\nT...   \n",
       "\n",
       "                                       textEmbedding  \n",
       "0  [0.5340319275856018, -0.47775566577911377, -0....  \n",
       "1  [2.1701207160949707, -0.5895195603370667, 0.98...  \n",
       "2  [2.6462013721466064, -1.6008479595184326, 0.05...  \n",
       "3  [1.896992802619934, -1.3056349754333496, -0.85...  \n",
       "4  [2.645840644836426, -1.0651317834854126, 0.135...  "
      ]
     },
     "execution_count": 8,
     "metadata": {},
     "output_type": "execute_result"
    }
   ],
   "source": [
    "product_embedding.head()"
   ]
  },
  {
   "cell_type": "code",
   "execution_count": 9,
   "metadata": {},
   "outputs": [
    {
     "name": "stdout",
     "output_type": "stream",
     "text": [
      "<class 'list'> 8018 <class 'dict'> dict_keys(['productCode', 'textEmbedding'])\n",
      "\n"
     ]
    }
   ],
   "source": [
    "records_dict = product_embedding[['productCode', 'textEmbedding']].to_dict('records')\n",
    "print(type(records_dict), len(records_dict), type(records_dict[0]), records_dict[0].keys())\n",
    "print()\n"
   ]
  },
  {
   "cell_type": "code",
   "execution_count": 10,
   "metadata": {},
   "outputs": [
    {
     "name": "stdout",
     "output_type": "stream",
     "text": [
      "staging 8,018 records\n",
      "Set 100 of 8,018 text embeddings\n",
      "Set 200 of 8,018 text embeddings\n",
      "Set 300 of 8,018 text embeddings\n",
      "Set 400 of 8,018 text embeddings\n",
      "Set 500 of 8,018 text embeddings\n",
      "Set 600 of 8,018 text embeddings\n",
      "Set 700 of 8,018 text embeddings\n",
      "Set 800 of 8,018 text embeddings\n",
      "Set 900 of 8,018 text embeddings\n",
      "Set 1,000 of 8,018 text embeddings\n",
      "Set 1,100 of 8,018 text embeddings\n",
      "Set 1,200 of 8,018 text embeddings\n",
      "Set 1,300 of 8,018 text embeddings\n",
      "Set 1,400 of 8,018 text embeddings\n",
      "Set 1,500 of 8,018 text embeddings\n",
      "Set 1,600 of 8,018 text embeddings\n",
      "Set 1,700 of 8,018 text embeddings\n",
      "Set 1,800 of 8,018 text embeddings\n",
      "Set 1,900 of 8,018 text embeddings\n",
      "Set 2,000 of 8,018 text embeddings\n",
      "Set 2,100 of 8,018 text embeddings\n",
      "Set 2,200 of 8,018 text embeddings\n",
      "Set 2,300 of 8,018 text embeddings\n",
      "Set 2,400 of 8,018 text embeddings\n",
      "Set 2,500 of 8,018 text embeddings\n",
      "Set 2,600 of 8,018 text embeddings\n",
      "Set 2,700 of 8,018 text embeddings\n",
      "Set 2,800 of 8,018 text embeddings\n",
      "Set 2,900 of 8,018 text embeddings\n",
      "Set 3,000 of 8,018 text embeddings\n",
      "Set 3,100 of 8,018 text embeddings\n",
      "Set 3,200 of 8,018 text embeddings\n",
      "Set 3,300 of 8,018 text embeddings\n",
      "Set 3,400 of 8,018 text embeddings\n",
      "Set 3,500 of 8,018 text embeddings\n",
      "Set 3,600 of 8,018 text embeddings\n",
      "Set 3,700 of 8,018 text embeddings\n",
      "Set 3,800 of 8,018 text embeddings\n",
      "Set 3,900 of 8,018 text embeddings\n",
      "Set 4,000 of 8,018 text embeddings\n",
      "Set 4,100 of 8,018 text embeddings\n",
      "Set 4,200 of 8,018 text embeddings\n",
      "Set 4,300 of 8,018 text embeddings\n",
      "Set 4,400 of 8,018 text embeddings\n",
      "Set 4,500 of 8,018 text embeddings\n",
      "Set 4,600 of 8,018 text embeddings\n",
      "Set 4,700 of 8,018 text embeddings\n",
      "Set 4,800 of 8,018 text embeddings\n",
      "Set 4,900 of 8,018 text embeddings\n",
      "Set 5,000 of 8,018 text embeddings\n",
      "Set 5,100 of 8,018 text embeddings\n",
      "Set 5,200 of 8,018 text embeddings\n",
      "Set 5,300 of 8,018 text embeddings\n",
      "Set 5,400 of 8,018 text embeddings\n",
      "Set 5,500 of 8,018 text embeddings\n",
      "Set 5,600 of 8,018 text embeddings\n",
      "Set 5,700 of 8,018 text embeddings\n",
      "Set 5,800 of 8,018 text embeddings\n",
      "Set 5,900 of 8,018 text embeddings\n",
      "Set 6,000 of 8,018 text embeddings\n",
      "Set 6,100 of 8,018 text embeddings\n",
      "Set 6,200 of 8,018 text embeddings\n",
      "Set 6,300 of 8,018 text embeddings\n",
      "Set 6,400 of 8,018 text embeddings\n",
      "Set 6,500 of 8,018 text embeddings\n",
      "Set 6,600 of 8,018 text embeddings\n",
      "Set 6,700 of 8,018 text embeddings\n",
      "Set 6,800 of 8,018 text embeddings\n",
      "Set 6,900 of 8,018 text embeddings\n",
      "Set 7,000 of 8,018 text embeddings\n",
      "Set 7,100 of 8,018 text embeddings\n",
      "Set 7,200 of 8,018 text embeddings\n",
      "Set 7,300 of 8,018 text embeddings\n",
      "Set 7,400 of 8,018 text embeddings\n",
      "Set 7,500 of 8,018 text embeddings\n",
      "Set 7,600 of 8,018 text embeddings\n",
      "Set 7,700 of 8,018 text embeddings\n",
      "Set 7,800 of 8,018 text embeddings\n",
      "Set 7,900 of 8,018 text embeddings\n",
      "Set 8,000 of 8,018 text embeddings\n",
      "Set 8,018 of 8,018 text embeddings\n"
     ]
    }
   ],
   "source": [
    "from embeddings.push_embeddings import push_embeddings\n",
    "\n",
    "push_embeddings(client_gds, records_dict)\n"
   ]
  },
  {
   "cell_type": "markdown",
   "metadata": {},
   "source": [
    "#### Creating the vector index\n",
    "\n",
    "- the ***create_vector_index*** functionis configurated to ease the workload of vector similarity search. I specified a similarity function into the query and neo4j take care of organising the index based on most similar vector according to the similarity function wich is a requirement for real time application\n",
    "\n",
    "the ***CALL db.awaitIndex(\"product_text_embeddings\", 300)*** ensure that the index is properly set up before making any further request on the DB that would request the vector index"
   ]
  },
  {
   "cell_type": "code",
   "execution_count": 11,
   "metadata": {},
   "outputs": [],
   "source": [
    "from embeddings.push_embeddings import create_vector_index\n",
    "\n",
    "create_vector_index(client_gds, 4096)\n"
   ]
  },
  {
   "cell_type": "code",
   "execution_count": 12,
   "metadata": {},
   "outputs": [
    {
     "name": "stdout",
     "output_type": "stream",
     "text": [
      "stats:\n",
      "query prompt :  ##Product\n",
      "Name: Box 4p Kneehighs\n",
      "Type: Underwear Tights\n",
      "Group: Socks & Tights\n",
      "Garment Type: Socks and Tights\n",
      "Description: Four pairs of knee highs. 20 denier.\n",
      "len :  158\n",
      "embedded prompt :  [-0.34917518496513367, -2.622393846511841, 1.4032275676727295, -1.2686604261398315, 1.7714356184005737, -1.5883234739303589, -2.3025829792022705, 0.37134072184562683, -0.9117132425308228, -1.2360694408416748]\n",
      "len embedded prompt :  4096\n"
     ]
    }
   ],
   "source": [
    "query_prompt = '''##Product\n",
    "Name: Box 4p Kneehighs\n",
    "Type: Underwear Tights\n",
    "Group: Socks & Tights\n",
    "Garment Type: Socks and Tights\n",
    "Description: Four pairs of knee highs. 20 denier.'''\n",
    "\n",
    "embedded_prompt = embedding_model.embed_query(query_prompt)\n",
    "\n",
    "print('stats:')\n",
    "print('query prompt : ', query_prompt)\n",
    "print('len : ', len(query_prompt))\n",
    "print('embedded prompt : ', embedded_prompt[0:10])\n",
    "print('len embedded prompt : ', len(embedded_prompt))\n"
   ]
  },
  {
   "cell_type": "code",
   "execution_count": 13,
   "metadata": {},
   "outputs": [
    {
     "name": "stdout",
     "output_type": "stream",
     "text": [
      "[-0.34917518496513367, -2.622393846511841, 1.4032275676727295, -1.2686604261398315, 1.7714356184005737, -1.5883234739303589, -2.3025829792022705, 0.37134072184562683, -0.9117132425308228, -1.2360694408416748, 1.7151645421981812, -3.230201244354248, 1.0329676866531372, 3.588286876678467, 2.56642746925354, -0.70607590675354, -1.8925795555114746, -0.828697144985199, 0.3444577157497406, 1.062218189239502, -1.488359808921814, 0.17563828825950623, -1.9500230550765991, -1.7601841688156128, -2.8800785541534424, -0.7455834150314331, -0.7225560545921326, -2.452418565750122, -0.23346614837646484, 2.0072968006134033, 1.1991820335388184, -0.4709888696670532, -2.2807953357696533, -1.6996557712554932, 0.6855659484863281, 0.34314727783203125, -1.3461915254592896, 0.8291614055633545, -2.4462389945983887, 3.237294912338257, -1.51541006565094, 0.6401684284210205, -0.8333976864814758, 2.798381805419922, -0.037843868136405945, 1.551081657409668, 0.7675260305404663, 0.1791975498199463, -0.3946724832057953, 0.07392311096191406, -1.4790133237838745, 1.7224348783493042, -0.2399258315563202, 1.8351452350616455, -1.6401865482330322, 2.177194118499756, 0.8493179082870483, -0.7483893632888794, -3.663360834121704, 0.8609044551849365, -0.7064924836158752, -3.137216329574585, 1.9035853147506714, -0.01341478805989027, -0.05227571725845337, -0.2077907919883728, -0.19087322056293488, 2.184457540512085, 1.5919456481933594, 1.0775731801986694, 2.2082369327545166, -0.6844428777694702, 4.3998589515686035, 3.381999969482422, 1.910937786102295, -0.9540687203407288, -0.7561902403831482, -1.715190052986145, -0.42670878767967224, 1.529794454574585, -3.4930641651153564, 0.8260965347290039, -0.01672585867345333, 0.9924542903900146, 1.1179499626159668, -0.6302626132965088, -0.11092483997344971, 0.42294687032699585, 2.936063289642334, 2.3157670497894287, 0.5345556735992432, 2.322575569152832, -0.213613361120224, 1.7663382291793823, 2.2639834880828857, -1.3203582763671875, 1.3144006729125977, -3.6339378356933594, 2.9078028202056885, 1.1835768222808838, 1.7287476062774658, -5.339752197265625, -1.4462864398956299, -2.613068103790283, -1.2165923118591309, -1.3622571229934692, 0.4749172329902649, -1.6294450759887695, -2.221107006072998, -5.1590166091918945, -2.377089500427246, 1.8377798795700073, 2.079190731048584, 3.4231510162353516, -1.0943979024887085, 1.507676362991333, -1.1309672594070435, 5.591062545776367, 0.8219004273414612, -0.21069225668907166, 0.1347883939743042, 0.49140602350234985, 0.6928378939628601, 3.214292526245117, -0.027930356562137604, -1.7707237005233765, -1.143751621246338, -2.168853282928467, 1.9510421752929688, -2.549818992614746, -0.4699607491493225, 1.634210467338562, -1.8217886686325073, 3.474421501159668, -2.905280113220215, -3.3947668075561523, -0.14958159625530243, -2.9864718914031982, -3.255079746246338, 2.226857900619507, -2.01102876663208, 1.808973789215088, 0.47059282660484314, 3.1682631969451904, -0.6583735942840576, 0.26826924085617065, 4.334987163543701, 0.4007311165332794, 2.6720123291015625, -2.171760320663452, 0.07794184237718582, 0.823052704334259, 0.9931735396385193, 3.9837639331817627, -1.6831471920013428, 0.023830531165003777, -1.0299551486968994, -0.5426855087280273, 0.19228176772594452, 2.0058822631835938, -0.8885157108306885, 1.0510084629058838, 0.2114453911781311, 2.630784034729004, 1.3390873670578003, 3.189206600189209, -1.0761911869049072, -0.7789916396141052, -0.49779000878334045, 0.5396401286125183, 3.641517400741577, -1.1438984870910645, 2.267876148223877, -0.3296889662742615, -0.29438602924346924, -4.102621555328369, -1.6794967651367188, 1.7061893939971924, -1.3256882429122925, 4.006340026855469, 1.8689043521881104, -2.7597250938415527, 0.1683022677898407, 3.2175450325012207, 9.866044044494629, 0.11413393914699554, 0.011807434260845184, -0.8075956106185913, 0.2022847831249237, -2.8990061283111572, 0.1436784267425537, 1.8054206371307373, 0.5546419024467468, -0.5606100559234619, 0.1340065896511078, 1.701389193534851, 1.2125976085662842, 1.9171403646469116, -1.5230766534805298, 0.226504847407341, 0.3396211564540863, -0.6049454808235168, -2.029160499572754, -1.7097421884536743, -0.2191208302974701, -0.011198345571756363, -1.2801048755645752, 1.8125238418579102, 0.36682969331741333, -2.0309040546417236, -1.1652733087539673, -1.1756978034973145, 0.5444352030754089, 1.2794170379638672, 2.647153615951538, -1.031862497329712, 0.31484663486480713, 0.4681434631347656, -0.7248547673225403, -0.9610157012939453, 3.477004289627075, -0.12071530520915985, -1.0883674621582031, -1.7978225946426392, 3.4257569313049316, 1.599260687828064, 3.635822057723999, 0.8508486151695251, -0.8125563859939575, -5.918035984039307, 1.691859245300293, 1.7415307760238647, -0.25554215908050537, 2.0679826736450195, 5.292564392089844, 3.3433985710144043, 6.363246440887451, -1.3301079273223877, -0.5343001484870911, -1.664131760597229, 0.9895344376564026, 0.48690542578697205, -3.018162727355957, -2.167119264602661, -0.2656743824481964, 0.8232565522193909, -0.18849630653858185, 2.527215003967285, -4.55279541015625, -2.261951208114624, -0.6116501092910767, -1.7161281108856201, 2.4385857582092285, -1.3816484212875366, 0.7118322849273682, 1.609494686126709, 2.9957563877105713, 0.44832852482795715, -0.024290060624480247, 1.3834275007247925, -2.1065900325775146, -4.854619026184082, 0.8804615139961243, 0.0777495950460434, -0.9510329961776733, -1.7725287675857544, -0.2764570415019989, -0.630854070186615, 2.8602776527404785, -0.24423450231552124, 1.717864990234375, 2.516630172729492, -0.631132960319519, -0.19083881378173828, 0.2694685161113739, 0.17508938908576965, 0.9608477354049683, 1.1622062921524048, -2.2699620723724365, 1.0475844144821167, -2.839399576187134, -1.9889568090438843, -2.8811051845550537, -0.7688509225845337, -0.11847016960382462, 1.8818399906158447, 0.9269086718559265, -0.9547046422958374, 2.486987352371216, -3.030207633972168, 6.053021430969238, -0.8242327570915222, -0.9366794228553772, -5.1060099601745605, -0.33790987730026245, -0.9412323236465454, 2.0297672748565674, -1.1018320322036743, -2.5319466590881348, -0.8463888168334961, -0.29109546542167664, -0.635506808757782, 0.9732000231742859, 2.6891372203826904, -0.6423801779747009, -1.367419719696045, 2.4458141326904297, 2.128077983856201, 0.9205614328384399, 1.1085774898529053, -1.659844160079956, 5.132328510284424, 0.3854331374168396, -0.6411966681480408, -1.198585033416748, 1.6519649028778076, -1.7800779342651367, -1.319844126701355, 0.26748132705688477, -3.075378179550171, 1.7757759094238281, -2.245600461959839, -3.7368674278259277, 1.5767275094985962, -2.637662410736084, -0.16856157779693604, -1.2279906272888184, 1.1425811052322388, 2.6276590824127197, -4.986964702606201, -1.0904468297958374, -0.8916284441947937, 1.6201205253601074, -2.2618956565856934, -1.8508853912353516, -7.205780029296875, 0.503315269947052, -3.3066306114196777, 0.2810942828655243, 4.593988418579102, 0.5066482424736023, 1.7742866277694702, 0.34972330927848816, 0.6033130884170532, -0.05749833583831787, 5.158200263977051, 0.16431507468223572, 1.314887285232544, -0.014034533873200417, -5.095895767211914, -1.5378644466400146, -1.4170565605163574, 2.7422730922698975, 1.1782927513122559, -2.903118371963501, 0.4166862666606903, 3.285252571105957, -3.5128934383392334, -1.7945605516433716, 3.4134974479675293, 2.8391783237457275, -1.7915410995483398, 2.264573097229004, 1.623335599899292, 2.31233811378479, 1.8143404722213745, 1.6097230911254883, 2.886474132537842, 0.3074028193950653, -3.1754963397979736, 1.133422613143921, -3.0048532485961914, -1.0429946184158325, 3.9633781909942627, 3.349454641342163, 2.7122812271118164, 1.9680962562561035, -2.1897168159484863, 0.831640899181366, -1.3898677825927734, 0.409401535987854, 3.054654121398926, -3.1757006645202637, -1.2745246887207031, -0.3834531605243683, -2.7533469200134277, -0.9019633531570435, -0.7375850677490234, 1.485201120376587, 0.826477587223053, 1.3342493772506714, 0.726163923740387, 1.4906173944473267, 0.7009466290473938, 1.405325174331665, 2.7209739685058594, 2.0477840900421143, 2.0750820636749268, 0.06294164061546326, 4.741442680358887, -0.2829170227050781, 2.3859803676605225, -1.3386383056640625, -5.584505558013916, -3.478917360305786, 2.868743419647217, 2.5387651920318604, -1.603918194770813, -0.6456299424171448, 0.18892718851566315, 2.009077310562134, -1.7553502321243286, 2.4939374923706055, -0.47708550095558167, -0.770684540271759, -2.0012996196746826, -0.9045274257659912, -3.19773530960083, -1.6315500736236572, -3.918780565261841, 0.1414729207754135, -6.576913833618164, 1.6463650465011597, -1.607244610786438, -1.88502836227417, -1.4295892715454102, 0.22359447181224823, 0.6049063801765442, 1.2801549434661865, 1.838970422744751, -0.5223764181137085, -2.1368963718414307, -0.35444316267967224, 3.7933144569396973, 2.824650764465332, 3.99186372756958, 0.14957700669765472, -1.2297369241714478, -1.8760857582092285, -0.3841850459575653, -0.16028860211372375, 3.8757617473602295, 2.6339850425720215, -0.4128802418708801, -1.452108383178711, 1.4422481060028076, -3.0094666481018066, 0.5986384153366089, -2.8667566776275635, 0.9118912816047668, 0.7643547654151917, -0.811274528503418, 0.05626552924513817, -0.14697377383708954, 2.497335195541382, 0.05158400535583496, -0.08684545755386353, 3.0257492065429688, -6.030508518218994, -0.3315087854862213, -0.9146884083747864, 5.722907543182373, -0.22964464128017426, 4.796239852905273, 3.661407470703125, -1.3151739835739136, -1.111433982849121, -2.9064271450042725, -0.9709556102752686, 1.664825677871704, 1.4079145193099976, -3.3287782669067383, -3.0259385108947754, 0.034892886877059937, 3.172217607498169, 2.6167891025543213, 3.1229262351989746, -3.2464842796325684, 1.024174690246582, -0.6131960153579712, 2.292022228240967, 2.1817314624786377, 2.0358126163482666, 1.8287488222122192, 2.585296630859375, -4.638683795928955, 1.564805269241333, -1.4840751886367798, 0.24540744721889496, -2.118823289871216, 1.4928319454193115, -1.8263037204742432, 1.4776091575622559, -1.5188647508621216, 2.1436216831207275, -1.237166166305542, 0.8272252678871155, -3.7456228733062744, -2.321082592010498, -1.3696097135543823, -0.7310008406639099, -3.127851963043213, 1.8032140731811523, 2.916853666305542, -0.13091062009334564, -1.302588939666748, 0.5845309495925903, 0.36241573095321655, 0.48461300134658813, -3.7037692070007324, -2.193612813949585, 1.1517325639724731, 0.5300265550613403, -0.46341270208358765, -0.37083518505096436, 1.2523800134658813, -0.1301759034395218, 2.2132556438446045, -0.39763471484184265, -4.885084629058838, -2.0222971439361572, -1.195678949356079, -4.4163899421691895, 2.2161011695861816, 1.0830376148223877, -2.0899038314819336, -0.9912512302398682, -0.5826680660247803, 0.25893789529800415, 1.8279327154159546, 0.13282331824302673, 1.0641734600067139, 2.224809169769287, 0.3034783601760864, 2.1983697414398193, 2.8166117668151855, 0.9562217593193054, 1.3698498010635376, -7.563734531402588, -2.513284206390381, -3.2307543754577637, 3.4108688831329346, 0.2956555485725403, 0.22458772361278534, -0.6190136671066284, -1.8355077505111694, 1.279717206954956, 0.23520494997501373, -0.3823746144771576, -0.4242243766784668, -3.142087459564209, -4.138643741607666, -1.4379700422286987, -3.0529847145080566, 0.33385932445526123, 0.9510378837585449, -0.8887580037117004, -0.9694653153419495, -0.26498985290527344, -0.943111002445221, -0.9992789626121521, 2.2587108612060547, 0.01823418401181698, -1.907875895500183, 4.932279586791992, -0.9750097990036011, 1.5953158140182495, 1.139107346534729, -0.3251592516899109, -0.831797182559967, 1.4775264263153076, 0.10014098882675171, -3.0928356647491455, -4.197808265686035, 0.46586450934410095, -1.7181553840637207, -1.3524588346481323, 0.01259438507258892, -4.875667572021484, 0.28717291355133057, -0.47663414478302, 2.1205525398254395, -0.7906596064567566, -0.6633228659629822, 2.636049747467041, -0.22689488530158997, 2.4919919967651367, -1.6753650903701782, 1.7582155466079712, 3.0726373195648193, 1.711796522140503, -2.149296283721924, -1.3598231077194214, 5.103547096252441, 4.199732303619385, -4.203142166137695, -0.8159119486808777, 1.3078222274780273, -1.1611762046813965, -0.5557463765144348, 2.0406596660614014, 3.1638107299804688, -1.3555997610092163, -1.3595932722091675, 1.1190822124481201, -1.6424332857131958, -0.19914624094963074, -0.6176645159721375, -1.857874870300293, -2.830568313598633, -7.426396369934082, 1.994726300239563, -0.5890040993690491, -0.42154932022094727, 0.8424351811408997, -1.1690431833267212, -4.577269554138184, 1.2890907526016235, -0.1953573077917099, 1.6320534944534302, 2.013076066970825, 3.0514912605285645, -0.12901204824447632, 0.2958805561065674, -2.1412882804870605, -0.5298314094543457, -2.1665096282958984, 1.4154762029647827, 0.6948208212852478, 1.8738206624984741, -0.37466511130332947, 0.020498264580965042, -2.0999131202697754, 0.14995962381362915, -0.017226047813892365, -0.6895004510879517, -0.48578503727912903, 1.5931158065795898, 0.3844912350177765, 1.1053258180618286, -2.3380236625671387, 4.882814884185791, -0.2761324942111969, -0.8711308240890503, -2.3221139907836914, 1.390619158744812, -1.5377696752548218, 0.523306667804718, 3.286540985107422, -1.1929774284362793, 3.1016769409179688, -4.764113426208496, -2.2398569583892822, 4.350266456604004, 2.449547052383423, 3.9446210861206055, 2.1158666610717773, 0.9588618874549866, -0.7708250880241394, 0.6685542464256287, 0.49937915802001953, 3.034179449081421, 4.470738410949707, -0.22649045288562775, -4.183610439300537, 2.049112558364868, 3.999354600906372, 1.9567816257476807, -1.330199956893921, 0.8950636386871338, -1.5593831539154053, -0.6222525835037231, 1.831404447555542, -2.940664052963257, 3.6942214965820312, 2.6012914180755615, -3.2268688678741455, 0.36099931597709656, -1.6817902326583862, -0.13852371275424957, 0.5626365542411804, -2.147914171218872, -0.30765435099601746, -0.6911696195602417, 4.615680694580078, 0.7984237670898438, -3.8778061866760254, -1.66118586063385, -2.092700958251953, -1.5936321020126343, 2.7661147117614746, 3.2936840057373047, 0.4630284905433655, 1.2136716842651367, -1.6551138162612915, 1.0258417129516602, 0.15112051367759705, 1.6062076091766357, -1.0531349182128906, -1.3385889530181885, 0.687504231929779, 5.688727378845215, 0.7586610317230225, 0.1610417515039444, 2.647387981414795, -1.7925115823745728, 1.0746548175811768, -2.1827495098114014, 4.662836074829102, 2.86356520652771, 1.243242859840393, 3.2711997032165527, 1.5779461860656738, -0.4942871332168579, 0.42620381712913513, -1.2493715286254883, 1.0445729494094849, -1.4213180541992188, 1.7247227430343628, -0.2490893304347992, 0.34337377548217773, -2.368961811065674, -1.6529598236083984, 2.2932372093200684, 0.5165711641311646, 2.0306034088134766, -0.008112339302897453, -2.483914852142334, -1.2055037021636963, -1.195156455039978, 3.099517822265625, 2.7805111408233643, 1.388258695602417, 1.3993552923202515, -1.1456246376037598, -1.1505999565124512, 1.1089428663253784, -2.831263542175293, 0.9518153667449951, 0.24042652547359467, 3.416369676589966, 4.297176361083984, 2.142666816711426, 3.883488178253174, 3.0141396522521973, -0.6143293380737305, -2.8290598392486572, 2.0373921394348145, 1.6385222673416138, 0.886771023273468, -0.09376990795135498, -3.5567843914031982, 1.0913676023483276, 0.4704449772834778, 2.092113971710205, 0.7218544483184814, 2.6104302406311035, -1.4376087188720703, 1.5980898141860962, -0.9705917239189148, -2.2603859901428223, 0.3558988869190216, -0.47947877645492554, 1.567659854888916, 0.4261983633041382, -1.7438126802444458, -5.315970420837402, 0.14599694311618805, 4.48949670791626, -1.9566820859909058, -0.8964345455169678, -1.1282521486282349, 0.5922802090644836, -0.43237778544425964, 4.584372520446777, -3.061779022216797, 2.678313970565796, 2.006608247756958, 3.3406753540039062, 1.2441312074661255, -0.6990116238594055, -1.5402055978775024, 4.105685710906982, 0.23260845243930817, -2.342975616455078, -2.7581307888031006, 1.1738629341125488, 0.5343228578567505, 0.6946454644203186, -1.9166462421417236, 0.5066642165184021, 1.3695138692855835, -1.6515356302261353, 2.159616470336914, 1.258142113685608, -1.5347445011138916, 1.8626532554626465, -3.552016496658325, 1.375140905380249, 0.18573780357837677, 0.14050431549549103, 0.14048749208450317, 2.9223666191101074, 0.6299082040786743, 1.4588043689727783, 4.1373162269592285, -3.061417579650879, -0.8593271970748901, 1.8045588731765747, -0.5317463874816895, 5.359991073608398, -1.8209388256072998, -2.139214515686035, 0.1986452341079712, 0.9428492784500122, 0.9326137900352478, -1.5353608131408691, -1.0667089223861694, 1.3558056354522705, 2.7631328105926514, -3.197495222091675, 0.5521827936172485, 1.7876070737838745, 1.8602612018585205, 0.800705075263977, 1.8108232021331787, 0.5011125802993774, 0.22945338487625122, 0.1688019037246704, -0.7762460112571716, 1.686863660812378, 3.801044225692749, -6.658112049102783, -1.6761659383773804, -1.2103495597839355, 4.5929484367370605, 0.7950288653373718, 1.1634917259216309, -4.880973815917969, 2.3865230083465576, -4.362393379211426, 0.3389397859573364, 3.1439149379730225, -2.0558295249938965, -1.2858551740646362, -0.9749936461448669, 0.03185432404279709, 2.7402303218841553, -0.9160508513450623, -1.4885644912719727, -0.29111090302467346, 2.2427403926849365, -1.2598094940185547, 3.3898539543151855, -1.8288406133651733, 1.64349365234375, 2.397169351577759, 2.104172945022583, 3.7183175086975098, 0.4163115918636322, -1.1445482969284058, -1.5751044750213623, 1.6734519004821777, -0.1437472552061081, -2.7205183506011963, 2.50776743888855, -1.7771260738372803, 2.556990385055542, -2.2063679695129395, 1.8700085878372192, -1.4873803853988647, 1.0268025398254395, 2.7248809337615967, -0.6386279463768005, -1.1141241788864136, -2.804222822189331, 0.4126870632171631, 1.4261585474014282, -0.4255828261375427, -2.2342076301574707, -1.5723018646240234, 1.580548882484436, 1.7468479871749878, -3.0324416160583496, -2.290229320526123, -0.6219607591629028, -1.5038131475448608, 0.48997747898101807, 0.4519345462322235, 2.5483789443969727, 1.3020906448364258, 1.0088109970092773, 1.561956524848938, 2.5573318004608154, 0.46497759222984314, -0.42150211334228516, 0.9158850312232971, 3.595184803009033, 0.3345358669757843, -1.8940452337265015, -2.771496057510376, 2.4687273502349854, 2.0394492149353027, -0.21717625856399536, -1.340456247329712, -2.6095728874206543, 0.6538267731666565, -0.44487929344177246, -1.1054441928863525, -2.8679676055908203, -5.7741265296936035, -2.4206740856170654, -0.6217503547668457, -3.9018185138702393, -3.7990050315856934, -0.5249771475791931, -1.22774338722229, -1.727844476699829, -1.5130999088287354, -1.7985750436782837, -0.7415974140167236, -1.2266217470169067, 1.1373755931854248, 0.21085773408412933, 0.4227772355079651, -0.34382784366607666, 0.31871679425239563, 0.4296691417694092, 1.2506107091903687, -1.604475736618042, 1.666069746017456, 1.2655082941055298, -3.4868273735046387, -1.740309476852417, -3.315525770187378, 3.349104881286621, 1.2106399536132812, 1.3226438760757446, -0.23465567827224731, 0.1527073234319687, -6.148072242736816, 2.1676151752471924, 2.688417673110962, 0.7098025679588318, 1.2213783264160156, -0.309370756149292, 4.843686580657959, -0.44669386744499207, 1.6847552061080933, 1.828116774559021, 0.5095657110214233, 3.116323947906494, 1.341101884841919, -1.2923126220703125, -3.164717197418213, 3.3715384006500244, 1.3062257766723633, -2.048335552215576, 0.2746633291244507, -1.3365757465362549, 1.8101252317428589, -1.738448977470398, 2.6456878185272217, 1.017055869102478, 5.800711154937744, -2.4265952110290527, 1.940700888633728, 3.9158501625061035, -1.8167288303375244, 1.1009130477905273, -1.4483988285064697, 2.13976788520813, -0.11262928694486618, -1.0677720308303833, 0.5775619745254517, 0.657071053981781, 0.7813766002655029, -15.965538024902344, 1.6010956764221191, 1.1341785192489624, 2.865466833114624, -1.6360965967178345, 4.418428897857666, -2.178614377975464, -2.4875471591949463, 0.6968135833740234, -0.6695942282676697, 2.3397905826568604, -1.4414243698120117, 0.9709275960922241, -0.1479167640209198, 1.443063497543335, 0.4966201186180115, -2.2757771015167236, -4.857413291931152, 1.2647737264633179, -1.3253812789916992, -0.973846435546875, 0.4640098512172699, 0.6198896765708923, 2.706085205078125, 3.6756303310394287, -1.423792839050293, 1.5688481330871582, -1.8918538093566895, -2.72521710395813, -0.8411933183670044, -1.284806251525879, -0.4103996753692627, -0.31036072969436646, -0.6714999079704285, -2.174424409866333, 1.0057743787765503, 2.024766206741333, 3.0483975410461426, 1.7262121438980103, -1.3301081657409668, 1.740254521369934, 1.7444977760314941, 4.5424089431762695, -2.849997043609619, -2.037017822265625, 3.652284622192383, -1.10304594039917, 0.5886372327804565, 2.1423451900482178, -1.001059651374817, -0.4676665961742401, -2.975999593734741, -3.5359625816345215, 1.2735735177993774, 2.4268364906311035, -2.4974253177642822, -0.10925564914941788, -3.259671926498413, 1.4496361017227173, -3.305325508117676, -1.250340461730957, 0.8233419060707092, 4.655001640319824, 1.5268104076385498, -2.1675353050231934, -0.9377532005310059, 3.4281935691833496, -1.8378403186798096, 1.1703064441680908, 0.4323379099369049, -2.478652000427246, -0.6938384175300598, 0.5709588527679443, -0.7226166725158691, -0.42651575803756714, 0.6300073862075806, 0.5938015580177307, -3.4066505432128906, -4.373385906219482, 0.17985627055168152, -0.804571807384491, 0.8066509962081909, 0.318787544965744, 3.1523499488830566, -1.2578729391098022, -2.168044090270996, 1.0497030019760132, 0.8434808850288391, 1.87904953956604, 2.366046190261841, -2.061417818069458, -4.491839408874512, 0.9417616724967957, 0.18902039527893066, -2.7788803577423096, -0.3308192193508148, 0.044968731701374054, -3.7095305919647217, 2.0325450897216797, 1.9969595670700073, 1.4287738800048828, -3.527169704437256, -1.2807153463363647, -2.5390074253082275, 3.261366367340088, -0.459786057472229, 1.9465317726135254, 1.8949503898620605, 1.7412679195404053, 1.0142937898635864, -0.32465091347694397, 3.0584704875946045, 0.7633909583091736, -1.7660819292068481, -2.6476521492004395, -0.6108701825141907, -1.08579683303833, 1.8253228664398193, 3.2967774868011475, -2.457089900970459, 3.6529159545898438, 0.7721487283706665, -1.661367416381836, 1.5370891094207764, -5.153191566467285, 2.0438902378082275, -0.43823927640914917, 0.8680353760719299, -1.9743181467056274, 2.898998975753784, -0.6464329361915588, -0.7408389449119568, 2.547788143157959, 1.1698888540267944, -1.8011966943740845, -2.426224708557129, -1.0543628931045532, 4.22291898727417, -1.5690679550170898, -0.4677678346633911, 4.2348175048828125, 3.8501713275909424, -1.0296040773391724, 3.2908406257629395, -1.5470621585845947, -0.16767092049121857, 3.3285276889801025, 0.45293399691581726, -0.21374298632144928, -2.180511236190796, 2.5682973861694336, 2.2295405864715576, -1.0703774690628052, -1.8754324913024902, 0.737838864326477, 2.2702999114990234, -0.704742431640625, -2.340024709701538, -1.8995112180709839, -0.6821743845939636, 1.294130563735962, 0.13155891001224518, -4.297945022583008, 1.7477985620498657, 1.9608755111694336, -1.335605502128601, 0.8695810437202454, 0.6132640838623047, -2.9711687564849854, 0.24288761615753174, -3.7005698680877686, 1.3985857963562012, 4.019669055938721, -0.18827621638774872, 1.3465057611465454, 1.2339251041412354, 1.6838901042938232, -2.0241434574127197, 1.9550206661224365, -1.588132381439209, 2.430452346801758, 1.0840998888015747, -0.401753693819046, 2.553809404373169, -0.9799564480781555, -4.976963996887207, 0.3342360556125641, 0.9157177805900574, -4.900781154632568, -4.587441921234131, -0.858244001865387, -0.6861207485198975, -4.77826452255249, 0.238944411277771, 2.6024975776672363, -0.11324720084667206, -0.4333862066268921, -0.4164917469024658, 3.2486493587493896, 0.9370697736740112, -5.20186185836792, 0.06718342751264572, -3.301372766494751, -0.5331248044967651, 0.213931605219841, -1.6033167839050293, -0.7326344847679138, 3.1872873306274414, -1.3372496366500854, 1.7568292617797852, -2.377781867980957, -0.04106356203556061, -1.084800124168396, 2.5196151733398438, 0.5552236437797546, 0.7056125998497009, -1.8658159971237183, -1.3318078517913818, 2.171947717666626, 4.197251796722412, -1.678447961807251, 1.768212914466858, 1.2901455163955688, 0.9279215931892395, -2.4716968536376953, -0.758537232875824, -2.5649573802948, -0.3850582540035248, 1.7577472925186157, 0.5906081795692444, 2.4209518432617188, 0.9250696301460266, 0.16970252990722656, -0.01670246012508869, -0.03664158284664154, -1.2110857963562012, -0.5919897556304932, 1.9835586547851562, 2.0838305950164795, -2.3155126571655273, 1.654944658279419, -0.6100540161132812, -0.2725094258785248, -3.5916388034820557, 2.3681442737579346, -0.36256638169288635, -1.9690133333206177, 3.0589499473571777, -3.7057583332061768, -1.5246951580047607, 1.1306592226028442, 3.851343870162964, 0.4575752019882202, -3.5167245864868164, -1.3820610046386719, 0.10208801925182343, 1.2687726020812988, -3.3239190578460693, 1.7152434587478638, 3.074143409729004, 2.713228940963745, -0.2870715856552124, -1.7498784065246582, 1.0048775672912598, 2.2535500526428223, 1.0988661050796509, -0.025429116562008858, 1.1667124032974243, 1.5723481178283691, -2.0216751098632812, -2.508152723312378, 0.18447087705135345, -2.2273852825164795, -1.0195002555847168, 1.7448029518127441, 2.2969303131103516, 1.1852686405181885, 2.0611541271209717, -0.27980583906173706, -2.6120474338531494, 3.682645320892334, 2.6112239360809326, 4.291027069091797, -1.168832778930664, -0.35402488708496094, 3.2575206756591797, 2.241824150085449, -2.288888931274414, 0.7349992394447327, 3.7446236610412598, -0.7322878837585449, 0.3966219425201416, -0.3719645142555237, 1.1689578294754028, -1.7820649147033691, 1.247574806213379, -2.0751047134399414, 2.089258909225464, 1.082362413406372, -3.675271987915039, -0.08485923707485199, 2.335415840148926, 1.8440722227096558, -0.16806840896606445, -3.1383535861968994, 0.3437774181365967, 0.6189173460006714, 1.7309945821762085, 0.10575377196073532, 3.4880928993225098, -1.1562037467956543, -0.8148422837257385, 1.0307034254074097, 1.059514045715332, -0.7382562756538391, -0.145229309797287, 3.1784074306488037, -2.9206979274749756, 1.8013889789581299, -2.81198787689209, -4.522603988647461, 9.730782508850098, -1.5568203926086426, 0.7618517875671387, -0.6767832636833191, 2.815201997756958, -1.941843867301941, 2.7427284717559814, 0.976202666759491, -3.145179033279419, 2.921377182006836, -3.6176650524139404, -2.556028366088867, 1.0488835573196411, 0.2279455065727234, -2.5350942611694336, -0.41714730858802795, -2.812957763671875, -1.6302807331085205, 2.5974912643432617, 1.229154348373413, 1.8398852348327637, -3.616297721862793, 2.1665704250335693, -1.3804212808609009, -6.069890975952148, -0.6271735429763794, 1.726425051689148, 1.7049953937530518, -1.2422882318496704, -0.35059797763824463, 1.4885554313659668, -3.50783634185791, 3.979295253753662, 1.3187472820281982, -0.761386513710022, -2.340129852294922, -0.4656122326850891, -1.2988063097000122, -1.0373440980911255, -2.2838680744171143, -1.1937482357025146, 0.5004872679710388, -2.179502248764038, 0.041740529239177704, -0.8524735569953918, -0.4891713559627533, -7.4979424476623535, -0.19095098972320557, -0.21218907833099365, 0.4125792682170868, -2.697420835494995, -0.3372213840484619, 1.3006467819213867, 1.7445404529571533, 1.2536710500717163, 1.376237392425537, 3.796997308731079, 0.9836682081222534, 1.2217600345611572, -1.4439857006072998, 0.3905819058418274, -2.6171650886535645, 2.8915607929229736, -0.4377850294113159, -0.7102775573730469, 1.2430922985076904, 1.2267454862594604, 0.5419279336929321, -0.03521816059947014, -5.646537780761719, -0.5504918694496155, -1.3009766340255737, -1.939781665802002, 0.8894535899162292, 3.079890727996826, -5.9165778160095215, 1.4712326526641846, -2.79774808883667, -0.3584381937980652, -1.1045238971710205, 0.8269444108009338, 1.072148084640503, -0.7410774230957031, -0.19829699397087097, -5.702548980712891, -2.4673309326171875, 0.019939100369811058, 0.5008524060249329, 1.4614536762237549, -0.07176168262958527, -2.334550380706787, -1.2814455032348633, -1.902953028678894, -3.09946870803833, -3.0092530250549316, -1.447890281677246, -0.28274425864219666, 0.3339371383190155, -2.2463502883911133, -0.07422783225774765, -0.7749273180961609, -2.552037000656128, -3.3914554119110107, -0.7944976687431335, -0.4831925630569458, -1.0354108810424805, -3.484661817550659, -2.5790891647338867, 1.2179787158966064, 1.5118850469589233, 0.8074622750282288, -1.2331135272979736, -0.7779746055603027, -0.2852890193462372, 2.1708762645721436, -1.1965398788452148, 2.6775500774383545, 0.8567648530006409, 0.8304110169410706, 0.21641317009925842, 1.4281651973724365, -6.38999080657959, 0.7985255718231201, -0.9828342795372009, -1.2525312900543213, 1.0151017904281616, -1.8314522504806519, 2.7608256340026855, 0.9875989556312561, -1.9832104444503784, -0.8532707691192627, 1.4986649751663208, -1.3773194551467896, 0.0849246233701706, 0.4234192371368408, 0.08646105974912643, -3.009459972381592, 1.0501781702041626, 2.9178507328033447, 0.21585147082805634, -1.505685806274414, -1.693037509918213, -0.5851844549179077, -0.8115449547767639, -0.9509759545326233, -0.09197995066642761, -0.4235481321811676, -2.665825366973877, 0.5000540614128113, 0.8391436338424683, -1.6414333581924438, -0.2917035222053528, -0.03789931908249855, -1.2876616716384888, 0.756256103515625, -3.2090401649475098, -0.9260632395744324, -0.34397727251052856, 1.0434454679489136, -2.093899965286255, 0.09735064953565598, -2.6206157207489014, 2.080352306365967, -2.424286365509033, -0.5697823166847229, -1.1339408159255981, 4.789897918701172, 0.6304537653923035, 1.9851282835006714, 0.4008130431175232, -0.7442330121994019, 4.5995354652404785, 2.9305152893066406, 1.2693538665771484, -2.460503101348877, 0.27507543563842773, -0.7975797653198242, 0.4303129017353058, 0.8928756713867188, 1.6182663440704346, 3.2115273475646973, -1.393679141998291, 0.06867925822734833, 2.2519869804382324, -0.4534536600112915, 3.3130440711975098, 2.386441946029663, 2.0282418727874756, 0.362952321767807, 1.3815680742263794, -1.4761767387390137, 2.6968605518341064, 1.9861291646957397, 0.04553474485874176, 2.683763265609741, -0.4927268922328949, 2.965695381164551, 0.47256723046302795, 1.5013076066970825, 3.105679512023926, -1.0226123332977295, -1.60008704662323, -1.5793578624725342, -1.5794872045516968, -2.790616750717163, 1.27963125705719, 2.236823797225952, -0.11269405484199524, -1.7722728252410889, -1.1263859272003174, 0.2115488499403, 0.20225411653518677, -0.12563762068748474, -1.1047310829162598, -1.303314208984375, 2.242910385131836, 3.768848180770874, 4.328519344329834, -0.7787131667137146, 0.2383696436882019, -1.5562139749526978, -1.4951869249343872, -0.22713099420070648, -1.2574390172958374, 2.6492457389831543, -0.47630754113197327, -0.2460198849439621, 1.7911884784698486, 0.9357388019561768, 2.3281188011169434, -4.407338619232178, -1.0928736925125122, 2.8738648891448975, 1.287872314453125, 3.640176296234131, -0.8990610837936401, 1.265822172164917, 0.7878625988960266, 3.268559217453003, 0.033664457499980927, -1.5820647478103638, 0.39528679847717285, -0.38912150263786316, 1.1213165521621704, -4.079184532165527, 2.898031711578369, -2.7607033252716064, 0.08985217660665512, 2.5871493816375732, 0.39089637994766235, 2.601076602935791, 2.5342869758605957, -1.1393922567367554, -0.5753768682479858, -2.4785256385803223, -1.4966657161712646, 1.1033015251159668, -1.4932856559753418, 0.5183805823326111, 2.503782272338867, 1.119352102279663, -2.9629030227661133, -2.971338987350464, 0.6627992391586304, -0.018310824409127235, -2.5982401371002197, 1.795922875404358, -0.3666526973247528, -4.2625837326049805, 2.207801342010498, 0.46005260944366455, 0.17288170754909515, -2.165867805480957, 1.769428014755249, 1.4787607192993164, 0.7530376315116882, -4.123711109161377, 1.8351024389266968, -0.6983587741851807, -3.1742990016937256, -0.5732885003089905, 1.3213708400726318, -1.5709197521209717, -0.5070191025733948, -1.3919057846069336, -0.07429611682891846, -2.614724636077881, 0.26880669593811035, -1.0621097087860107, -0.10172145813703537, -3.2382640838623047, -3.287017822265625, -1.212472677230835, -0.5785037875175476, -1.3018211126327515, 2.108229160308838, -0.46007654070854187, 3.2060937881469727, -0.022361503913998604, 0.2162552773952484, -2.1818065643310547, -2.0888192653656006, -2.1962642669677734, -0.5793161392211914, -0.1123235821723938, -2.106449842453003, 4.194629669189453, 0.5360481142997742, 0.3541282117366791, 3.238877773284912, -3.222858428955078, 2.2397141456604004, -2.0013604164123535, -2.5096256732940674, 0.48897844552993774, -0.42762795090675354, 5.54810905456543, -0.925989031791687, 2.264432430267334, 2.43208384513855, 0.37772849202156067, 0.6306113600730896, -0.8297619223594666, 5.509019374847412, 1.2428618669509888, -1.2654433250427246, 0.8210816979408264, -0.7807626724243164, 0.9156579375267029, 0.7486310601234436, 1.6294044256210327, 1.4482611417770386, -1.0091127157211304, 3.6211397647857666, 1.4163278341293335, -2.706890821456909, 2.9765048027038574, 0.4807072579860687, -1.7870500087738037, 4.098405361175537, -1.7564682960510254, -1.1462745666503906, -0.4144541919231415, -1.4361038208007812, 1.7260730266571045, 8.113092422485352, 0.25686854124069214, -1.175227403640747, -1.151344895362854, -2.693601131439209, -2.4211583137512207, -2.7978463172912598, -0.16555511951446533, 0.40225934982299805, -0.6185723543167114, -0.21456165611743927, 6.2887163162231445, 1.7579026222229004, 1.2799516916275024, 3.0318984985351562, 3.0034008026123047, 0.7766072154045105, -0.2856982350349426, -0.625189483165741, 0.2639792561531067, -1.4798129796981812, -0.4297555983066559, -1.4409617185592651, -0.5433545112609863, -0.8483133316040039, -0.7563774585723877, 1.045050859451294, -1.6798756122589111, 0.552191436290741, 0.30022475123405457, -2.7337703704833984, 5.644914627075195, -2.1611177921295166, 1.5879918336868286, -0.9926043748855591, -2.5892441272735596, 2.1676013469696045, -0.1085452288389206, -3.5765044689178467, 2.4305624961853027, -2.7222518920898438, -1.7469730377197266, -1.6225645542144775, 0.7750232815742493, 4.346133232116699, 6.358190059661865, 5.773015022277832, -0.9724452495574951, 1.205562710762024, 1.3340901136398315, -2.322521686553955, -1.8757463693618774, -0.9785632491111755, -0.33587223291397095, -0.4649341404438019, 0.945724368095398, -1.9657708406448364, -3.2383244037628174, -1.4206472635269165, 0.2448641061782837, -5.579264163970947, -0.8858329057693481, 1.613642930984497, 0.5868459939956665, -0.12976200878620148, 1.3657861948013306, -0.3916371762752533, -0.6140450239181519, -3.057433843612671, -0.25976642966270447, 2.8279612064361572, -1.5431004762649536, -1.5970778465270996, 1.2286417484283447, -0.997433602809906, -2.0910675525665283, 2.5801303386688232, 2.647343873977661, -0.3042532801628113, 2.9202797412872314, 2.7511610984802246, -1.796234130859375, 2.929323196411133, 2.1550796031951904, -0.14680016040802002, -0.942646861076355, -1.5388628244400024, -0.5840991139411926, -3.1479978561401367, 0.08500482887029648, 0.5500427484512329, 4.347031116485596, 0.9310332536697388, -9.809473037719727, 2.175727367401123, -5.085741996765137, -0.7082679271697998, 2.0410988330841064, -0.08031563460826874, -0.8425118923187256, -1.6800469160079956, -0.4131680727005005, 3.5244059562683105, 2.6327226161956787, -0.7117743492126465, 0.1505715250968933, 2.0579707622528076, 4.819892406463623, 0.15862508118152618, -0.4133352041244507, 14.56568717956543, -0.964492678642273, 1.0116714239120483, -1.204587459564209, -2.503621816635132, 4.031834125518799, -1.6842327117919922, -3.404374122619629, 0.25364211201667786, 2.304471254348755, -1.2689474821090698, -2.4774835109710693, 3.025817632675171, -0.22125214338302612, 0.2292998880147934, 3.047595500946045, -3.5369760990142822, 3.374938488006592, -0.9411855936050415, 0.06263847649097443, 1.4391047954559326, -1.0142771005630493, 2.865638494491577, 0.4470275938510895, -3.0399022102355957, 2.139416217803955, 2.638956069946289, 1.7925952672958374, -0.2936558723449707, -0.30409756302833557, 2.467198371887207, -2.4703006744384766, -1.5226900577545166, -1.3107571601867676, -1.6517196893692017, -2.802185297012329, 1.4981783628463745, -2.2627158164978027, 3.625591516494751, 2.369358539581299, -0.33158746361732483, 0.8356913924217224, -3.305030584335327, 1.0661730766296387, 0.346064031124115, 2.711181879043579, 2.334099531173706, 0.07360891252756119, -1.0381263494491577, 0.483178973197937, 1.5437573194503784, -1.39486563205719, -0.7468928098678589, 8.000125885009766, -0.38751158118247986, -0.7988385558128357, 5.2535319328308105, -3.1735639572143555, 1.2597532272338867, -2.1378815174102783, -1.9673917293548584, 3.4609756469726562, 5.703097343444824, -1.7599166631698608, -1.2472583055496216, 0.5700696706771851, 1.539117693901062, -0.4905013144016266, 1.6737557649612427, 0.34917348623275757, -0.6364917755126953, 4.991558074951172, 0.9229274988174438, 3.867730140686035, -0.6877090334892273, -0.45912784337997437, 0.010189374908804893, 0.8744522929191589, 0.477993905544281, -0.5541976094245911, -0.8090474009513855, 3.118565797805786, 0.20134404301643372, -1.2082675695419312, -1.5713555812835693, 5.547840118408203, -3.5569143295288086, 0.4845017194747925, -1.2748569250106812, -0.145389124751091, -1.2801713943481445, -2.3672497272491455, 2.4198083877563477, 1.2953535318374634, -1.9420812129974365, -2.071460485458374, -1.9960023164749146, 4.3772454261779785, -2.963636636734009, 0.5374354720115662, -1.4680852890014648, 0.2055576890707016, -1.9930099248886108, 0.12484230101108551, -1.6861457824707031, -2.909426212310791, -1.6910072565078735, -0.4213782250881195, -0.2657107710838318, -4.859406471252441, 0.26682358980178833, -3.4085562229156494, 0.37264949083328247, -3.027371883392334, -0.4177756607532501, 3.0799338817596436, -0.13111253082752228, -1.5860284566879272, 3.133312702178955, -0.6078640222549438, 0.14799578487873077, 0.8145351409912109, 1.0299146175384521, -2.124742031097412, 4.16650915145874, 0.4067366421222687, -0.2179996371269226, -1.69474196434021, 3.026477098464966, -3.4565622806549072, 0.0702514499425888, -1.7277237176895142, -4.273293972015381, 4.12899923324585, 0.4003773629665375, -1.9979315996170044, -1.3795324563980103, -1.3720409870147705, -1.538407564163208, -0.982537031173706, -0.09220856428146362, -2.8639039993286133, 1.2030094861984253, -1.9495173692703247, 3.3042659759521484, 1.0145957469940186, 0.4833008050918579, -0.9680781960487366, 2.9642438888549805, -0.6800235509872437, -0.5566070079803467, 2.0338261127471924, -2.8570971488952637, 0.41812312602996826, 2.1618831157684326, -0.1839921772480011, 2.0356574058532715, -0.5274919867515564, 0.2318723499774933, 0.810039222240448, 0.9029780030250549, 8.304703712463379, -2.661212205886841, -1.6470361948013306, 1.5046498775482178, -0.4580899477005005, -0.29444360733032227, -4.977348327636719, 1.4706709384918213, -0.9887322783470154, -0.4730178415775299, -2.4149441719055176, 1.3429322242736816, 0.01646178774535656, 0.8667899370193481, -1.454396367073059, -2.2838730812072754, -0.8896869421005249, -2.608269214630127, 1.7072845697402954, 2.0546019077301025, 0.9878548979759216, 3.865830659866333, -2.0569493770599365, -1.4924348592758179, 1.6541392803192139, -2.781625509262085, 1.59209144115448, 0.8255580067634583, 0.26341935992240906, -1.0345063209533691, 3.360236406326294, 1.7967854738235474, -0.8485749959945679, 0.9003363847732544, 1.0431170463562012, 3.18154239654541, -0.1633404791355133, 4.926477432250977, -4.076448917388916, -5.605105400085449, -2.3276467323303223, -0.3787209987640381, 0.07739994674921036, -1.1693658828735352, -0.5901393890380859, -0.2636764943599701, -2.9193363189697266, 0.12122337520122528, -0.0300539992749691, 3.476083755493164, 4.840081214904785, 0.5874108076095581, 3.4544970989227295, 6.891756534576416, -1.4541361331939697, 2.1365652084350586, 0.46576976776123047, -13.62109661102295, 3.3230416774749756, 0.7771549820899963, 1.2116678953170776, -2.4823014736175537, -1.5209591388702393, 0.6796272397041321, 0.05990798771381378, -0.42303797602653503, -1.5394001007080078, -0.5225773453712463, 0.6554951667785645, 1.595731496810913, -1.7653496265411377, 2.292677402496338, -2.734628677368164, -3.8776233196258545, 0.414267361164093, -0.2665262818336487, -0.5581099987030029, 4.154021739959717, -0.9539602994918823, 3.1191446781158447, -0.06747259199619293, -2.0458383560180664, -1.1072509288787842, -1.3952703475952148, 0.8871164321899414, -2.5875725746154785, -2.758531332015991, 4.155235290527344, -1.1975618600845337, 2.5015201568603516, 1.027162790298462, -0.2626454532146454, 0.8151410222053528, -0.7843292951583862, -1.6588184833526611, 0.6910626888275146, 1.620317816734314, 2.82682204246521, 2.371324300765991, -0.7108650207519531, -2.686840772628784, 3.0016677379608154, 0.7378959655761719, -1.5128114223480225, -0.5898180603981018, 1.0578484535217285, 0.3118971884250641, -3.7513840198516846, 0.9612870812416077, 0.6784276962280273, 0.7115408778190613, 1.1122758388519287, 5.687267303466797, -5.134559631347656, -2.9087233543395996, 2.083627939224243, 1.1610169410705566, -0.5355704426765442, -2.566195487976074, -1.127961277961731, -1.9200518131256104, 3.2367310523986816, -3.199277639389038, -1.1970561742782593, 2.427415609359741, 1.338070273399353, -0.11206074804067612, 3.8548007011413574, 2.57881760597229, -0.33026280999183655, -4.049229621887207, 0.26471182703971863, 1.4297932386398315, -0.7634741067886353, 1.3523980379104614, -1.7419946193695068, -0.18168583512306213, 3.003112554550171, 1.78098726272583, 0.35327500104904175, -3.5045862197875977, 0.07536452263593674, 0.7302238941192627, 2.041368007659912, 1.9159929752349854, 0.027402373030781746, 0.011936982162296772, 0.6931130886077881, 0.315093994140625, 4.095964431762695, -1.9107221364974976, -1.0698857307434082, -2.3972153663635254, 0.8266497254371643, -2.9923040866851807, 2.1164679527282715, 1.2976380586624146, 0.8122537732124329, -1.064454436302185, 2.8290655612945557, -0.554778516292572, 3.5025224685668945, 9.311644554138184, -2.8820154666900635, -2.6476054191589355, -0.7829565405845642, 1.6846810579299927, -2.710120677947998, 0.9668079018592834, 1.5069665908813477, -0.5646381974220276, -0.2643980085849762, -2.461698293685913, -1.5314059257507324, 1.234745979309082, 1.0749973058700562, 0.39263203740119934, 1.7536109685897827, 2.4267079830169678, 0.1993974894285202, 1.8461146354675293, -0.6761972904205322, 1.0491114854812622, 0.579598069190979, -5.294826984405518, 0.6056368350982666, 2.8465981483459473, 0.33270564675331116, 1.8211579322814941, -1.6958239078521729, 2.773984432220459, -1.0868017673492432, -1.8409149646759033, -0.18126611411571503, -1.7949844598770142, -0.15086372196674347, 0.7678532004356384, -0.9033775925636292, -1.3051886558532715, 4.4066162109375, -1.2514986991882324, 1.9372941255569458, 2.1897897720336914, 0.4351631999015808, 3.5603525638580322, -3.1545166969299316, 2.7095534801483154, 0.8772228956222534, 1.3215619325637817, -0.8820463418960571, 1.335823893547058, -0.1861557513475418, -1.6969490051269531, 0.008757787756621838, -3.1925289630889893, -2.2472589015960693, 0.6869188547134399, 1.2723350524902344, 0.0339907631278038, 0.7713916301727295, 2.2571442127227783, 1.4655877351760864, 0.026272820308804512, 0.1842915415763855, 0.0977533683180809, 1.5222030878067017, -2.1845500469207764, 1.7390049695968628, -2.038311719894409, 0.8233686089515686, 1.5721282958984375, -1.62049400806427, 1.5556447505950928, 2.3796169757843018, 1.0078119039535522, -3.4875597953796387, 1.191646695137024, -1.5524017810821533, 1.41624116897583, 0.8619167804718018, -0.8621631264686584, 1.8031737804412842, 0.5834479928016663, -0.5009150505065918, -2.050575017929077, -4.90316104888916, -1.4554616212844849, 1.832265853881836, 1.572694182395935, 0.2138780802488327, -2.5128047466278076, 4.200004577636719, -0.5498189330101013, 1.027101755142212, 2.5029988288879395, 0.6726472973823547, 1.0392476320266724, 2.865726947784424, -1.0240058898925781, -0.5953172445297241, 3.9295055866241455, 0.04363711178302765, 2.4151575565338135, 0.35744553804397583, -1.5332536697387695, 0.44394388794898987, 2.1637165546417236, -1.1388616561889648, 2.958136558532715, 0.07247807085514069, -2.551509141921997, 0.36039721965789795, 0.8058844208717346, 3.6642539501190186, -0.4884069561958313, 0.24100333452224731, -1.8852795362472534, 4.5217061042785645, -4.846959114074707, 0.33954280614852905, 1.9098076820373535, -1.4204301834106445, -0.8637006878852844, -0.8449510931968689, 0.32536810636520386, -0.469111829996109, -1.6475250720977783, 0.3640548288822174, -0.6317933797836304, 0.5352999567985535, 0.4883778393268585, 0.11716176569461823, 0.9514755010604858, 2.6626839637756348, 0.23150397837162018, -1.3945192098617554, -3.719630002975464, 1.5220637321472168, 0.3250742554664612, 5.3246870040893555, 2.648510217666626, -1.1129052639007568, -3.4609527587890625, 4.218820571899414, 2.2969255447387695, 1.9976884126663208, 2.134864091873169, 1.3356202840805054, 1.0662657022476196, 0.4982945919036865, -4.3255228996276855, 0.2473391741514206, 1.2578675746917725, -0.7066521048545837, -0.08436130732297897, -0.8263351917266846, 1.5952669382095337, 3.3142762184143066, -0.4485025107860565, -3.4107887744903564, 0.3852865695953369, -0.2195426970720291, 0.8729490041732788, -0.3864620625972748, 1.066297173500061, -2.475752115249634, 0.952146053314209, 2.883678913116455, -0.21323147416114807, 0.13448837399482727, 2.321498394012451, -0.597566545009613, 1.0560251474380493, -0.12585167586803436, -0.06004096940159798, -3.0001699924468994, -1.7791458368301392, 1.3840548992156982, -4.65294075012207, -2.2620792388916016, 12.390586853027344, 4.297863006591797, 0.4242280423641205, 0.6865030527114868, -1.0041142702102661, -3.417692184448242, -1.3337514400482178, -0.6686012744903564, 1.7562215328216553, 0.761727511882782, 1.512947916984558, 0.08331906050443649, 1.0242650508880615, -2.063030481338501, 0.6937528252601624, 2.127485990524292, 2.1338424682617188, 0.5803811550140381, 0.01794956810772419, -1.0629254579544067, -3.530153512954712, 4.250339031219482, 3.948467254638672, -0.11015693843364716, -0.9649099111557007, 2.5029308795928955, -3.4431674480438232, 1.2002136707305908, 0.7633543610572815, -1.7254995107650757, -3.797229051589966, 1.6748063564300537, -1.6532047986984253, -1.289592981338501, -2.6182143688201904, 1.1254336833953857, -2.390437364578247, -0.05797446519136429, -0.7803934216499329, 0.5286719799041748, 0.8144069910049438, 5.378321170806885, 0.3939698040485382, 0.37921175360679626, 9.761018753051758, 0.46483322978019714, -2.468818426132202, 0.9840168952941895, 2.2666144371032715, 1.4725650548934937, -1.3231674432754517, -0.23122110962867737, 2.536731243133545, 1.2088937759399414, -6.4238176345825195, -0.9881501793861389, 1.136857509613037, 1.2487339973449707, 1.9885655641555786, 2.412048816680908, -2.285121202468872, 0.6946449875831604, -2.0466179847717285, 3.4064927101135254, 2.0460855960845947, -1.7931873798370361, 0.8186511993408203, -1.123876690864563, -3.0872604846954346, -1.3823641538619995, 1.4144281148910522, 1.519822597503662, -2.7850089073181152, 2.620587110519409, 2.9844889640808105, 0.4895235002040863, 2.0137619972229004, 0.7865146994590759, 0.4154307544231415, 2.193789482116699, 2.4615371227264404, 1.3327854871749878, -0.24738666415214539, -1.8646527528762817, 1.2241021394729614, -2.1177737712860107, -0.057773157954216, 0.23499782383441925, 2.202392578125, 1.2231667041778564, 0.09861091524362564, -2.814636707305908, 2.458611011505127, -1.717344045639038, 1.0024276971817017, 1.3676711320877075, -0.7755816578865051, 1.9254608154296875, 0.12387939542531967, -0.667250394821167, 0.44090792536735535, -0.3828880488872528, 3.214139461517334, 1.5252611637115479, -4.583522796630859, -2.407482385635376, -2.316007614135742, 3.012770414352417, 1.952081561088562, 1.0405926704406738, 1.2071185111999512, -2.6485214233398438, -1.417678952217102, -1.5788944959640503, 1.5709726810455322, -1.8457053899765015, -0.7899002432823181, -2.6682519912719727, -3.5914933681488037, -1.301279902458191, 2.269127607345581, 0.9278728365898132, -0.7471620440483093, -0.436951607465744, 2.101994037628174, 2.1212289333343506, 3.013756275177002, -1.92461097240448, 0.19184578955173492, 0.5424355864524841, -4.246054649353027, 1.8763152360916138, 2.8560221195220947, -0.3466154932975769, 0.4977732300758362, 0.641236424446106, -1.7233960628509521, -3.3172430992126465, -0.839814305305481, 0.7230834364891052, 3.322126865386963, -1.108568549156189, 0.21946382522583008, -2.630300521850586, 1.2879775762557983, 0.6136085987091064, 1.9678455591201782, 1.6403553485870361, 0.6301958560943604, -1.9449422359466553, 0.2165149599313736, 0.06599514186382294, -0.14415153861045837, -0.5957792401313782, -4.416561603546143, -0.9851635098457336, -2.6630821228027344, 2.339836597442627, -0.49469611048698425, -2.9612619876861572, 0.7835002541542053, -3.836369514465332, -2.3982815742492676, 3.4540319442749023, -0.5145061612129211, -2.275367259979248, -0.6628463268280029, 1.4177680015563965, -5.971012115478516, 0.5251961946487427, 0.7619031667709351, 2.202572822570801, 0.5217686891555786, 2.083423376083374, 3.2427685260772705, 0.2801521122455597, 4.277660846710205, 0.8657571077346802, 0.2645784020423889, -3.159428596496582, 0.4912022352218628, -0.6843492984771729, 3.3027806282043457, -0.7889720797538757, 0.7142534255981445, -0.5563918948173523, -0.7675620317459106, 4.011002540588379, 3.451848268508911, 3.018855094909668, 0.4371837377548218, -4.895784854888916, 2.647667646408081, 1.1919878721237183, -0.2546072006225586, -0.42624178528785706, -0.16421157121658325, -0.8406386375427246, -3.892007827758789, 0.19628216326236725, 1.2394660711288452, -3.278156042098999, -0.7997928261756897, 0.32997196912765503, 1.4414044618606567, -1.1484967470169067, -1.5908732414245605, 1.2146079540252686, 1.0555137395858765, 0.10602914541959763, -0.15424136817455292, -1.5327675342559814, -0.6028311848640442, 0.26834186911582947, -0.9079856276512146, -4.067627429962158, -0.4223674237728119, 3.0221307277679443, 1.9562797546386719, 0.7506411671638489, 2.6721904277801514, -3.7997069358825684, 3.8499953746795654, -1.3182613849639893, 1.8893924951553345, 2.0248749256134033, -1.2906112670898438, 1.3228509426116943, -4.187680721282959, -0.1990319937467575, -0.6426184773445129, 4.374990940093994, 0.0788649469614029, -1.5443085432052612, 3.136791229248047, -0.12714548408985138, -2.3369972705841064, 1.3983573913574219, -1.3109406232833862, -4.111367702484131, -3.928316831588745, -1.3505136966705322, -0.176639586687088, 9.834527015686035, 1.6747997999191284, -2.1632771492004395, 1.2195204496383667, 0.44457313418388367, -1.5555479526519775, 2.4733598232269287, -2.859708547592163, -0.623203456401825, -1.8164118528366089, -0.6200006604194641, -1.411810040473938, -0.6605236530303955, -1.6245107650756836, -0.7651374936103821, -1.7452765703201294, 5.324029922485352, 2.9501819610595703, -0.7381799221038818, 2.620137929916382, 2.841646909713745, 1.8592280149459839, 0.5304937362670898, 8.732540130615234, 0.8299832940101624, 3.7513840198516846, -2.9374730587005615, 2.9082517623901367, 1.8425817489624023, -0.8194171786308289, -2.0474212169647217, -3.070222854614258, 3.9623119831085205, -0.11343824118375778, 0.8957169055938721, 1.000573754310608, 0.656437337398529, 6.412329196929932, 2.071683406829834, 2.2228007316589355, 1.1535588502883911, 1.3975409269332886, -1.3617894649505615, 3.27471923828125, -1.6168718338012695, -0.08708269149065018, 4.229650020599365, -0.5699830055236816, 0.42558032274246216, -0.40623775124549866, -0.7958579659461975, -0.35608309507369995, -0.7108937501907349, -1.8083161115646362, -2.154764413833618, 1.8281837701797485, -0.25001242756843567, 3.1752967834472656, -0.663179874420166, -0.6939761638641357, 0.7350106239318848, -0.7875474095344543, 1.367889404296875, 3.33712100982666, -2.336078643798828, 0.752944827079773, -0.9587881565093994, 1.4924955368041992, -3.6652603149414062, 1.8716011047363281, -0.4780552387237549, 0.9589930176734924, 2.036215305328369, -2.2319250106811523, 3.2714076042175293, 0.7522746920585632, -1.681339979171753, -1.5769504308700562, -1.3264285326004028, 1.3021882772445679, 0.12837402522563934, -2.3262040615081787, -3.1212282180786133, -1.560876727104187, -2.648536443710327, -2.5841262340545654, 0.21344923973083496, -5.65332555770874, -2.1087050437927246, -1.146804690361023, 1.236875295639038, -2.1006672382354736, 0.23177306354045868, 0.3910835385322571, 0.19105224311351776, -1.108609914779663, -3.9695966243743896, 2.2508115768432617, -0.7819486856460571, 1.1452853679656982, -3.31172776222229, -1.7713431119918823, 1.954667329788208, 0.3972036838531494, -2.7671058177948, 0.2658312916755676, 3.641378164291382, -1.2238109111785889, 0.01795618236064911, 0.2572287917137146, 0.11080260574817657, -1.6329541206359863, -4.945308208465576, -0.09510587155818939, -3.2339723110198975, -3.7813186645507812, 0.3146607279777527, -0.42608559131622314, -2.279761791229248, -0.8773492574691772, -0.5182844400405884, -6.3529157638549805, -0.8366307020187378, -3.1284871101379395, 3.8765716552734375, 0.8887228965759277, -1.2553447484970093, -0.2220625877380371, 6.144737720489502, -4.190183162689209, 2.339094877243042, -0.338676780462265, -0.5380581021308899, 1.6760457754135132, -2.256631851196289, 5.568813800811768, -2.1615569591522217, -0.2649076282978058, -1.1493277549743652, 0.7846800088882446, 0.03703766316175461, -0.55048006772995, 1.3969537019729614, 0.01059870608150959, -0.40454062819480896, 1.2773330211639404, -1.7772717475891113, -0.2800294756889343, -0.2332526296377182, -0.32231131196022034, 0.05422767251729965, -1.1317830085754395, 1.091528296470642, 2.690758466720581, 4.078969478607178, -2.5068588256835938, -0.02772081270813942, -2.36098313331604, -1.1697500944137573, -0.21522212028503418, 4.889253616333008, -4.632257461547852, 1.2268805503845215, -1.802433729171753, -0.410785049200058, -0.08868080377578735, 4.499640464782715, 1.3453466892242432, -1.7445504665374756, -0.3893307149410248, -2.8934967517852783, 0.9544529318809509, -1.6577671766281128, 1.1069968938827515, 0.9677274823188782, -0.8264913558959961, 0.8581709861755371, 1.4856153726577759, 2.682042360305786, -2.769500494003296, 0.2894812226295471, 0.7850436568260193, -1.9741021394729614, -2.5716989040374756, -3.785233497619629, 0.6096333265304565, -1.224506139755249, -2.3576955795288086, -1.2026646137237549, 1.8822813034057617, 0.43230578303337097, 0.9165518283843994, -1.6171212196350098, 0.5566713809967041, 1.382638931274414, -4.432157039642334, -0.3706221878528595, 0.7584248185157776, -0.18873997032642365, 2.340806722640991, 0.4908944070339203, 2.6194393634796143, -0.680157482624054, 0.49775975942611694, -0.9616534113883972, -1.33451247215271, 0.6084555983543396, -0.7734349370002747, -0.7917802333831787, -0.3653797209262848, 3.0431783199310303, 0.10358607023954391, 0.1683592051267624, 2.1826560497283936, 0.24597389996051788, -0.4720373749732971, 5.267212390899658, 2.436041831970215, 1.0491236448287964, 0.5782925486564636, 2.100677490234375, -2.0009071826934814, -2.3103225231170654, -3.082547664642334, -0.9547202587127686, 0.6440067887306213, -2.0364205837249756, 0.8286718130111694, 0.13710317015647888, -0.02183084934949875, -0.8090540766716003, -0.030148154124617577, 1.2714085578918457, -5.558338165283203, 0.41714853048324585, -1.831642985343933, 6.54547643661499, -1.7243324518203735, 5.680870532989502, -0.7819420695304871, -3.3556067943573, -0.569096565246582, -0.8238000273704529, -0.48896098136901855, 0.66194087266922, -0.8358957171440125, -4.656937599182129, -0.8243502974510193, 2.009690284729004, -1.4014887809753418, -0.38693562150001526, 0.5230674743652344, -0.50310218334198, -1.0461069345474243, 1.0829509496688843, -1.4459946155548096, -0.3817441463470459, 1.8968689441680908, -4.574260234832764, -0.13095900416374207, 1.8907666206359863, -1.4176703691482544, -5.194361686706543, -1.8049829006195068, 0.8296462893486023, 0.4404973089694977, -0.4570755958557129, 0.046492788940668106, -0.03368474170565605, 2.3087167739868164, -3.3906409740448, -0.5238965749740601, -1.0384057760238647, 0.2597273886203766, -2.7558608055114746, 2.0536296367645264, 3.148160934448242, -0.9122204184532166, 1.1485326290130615, 0.20184661448001862, 2.344012498855591, -0.6947108507156372, 2.637204170227051, 0.0387573279440403, -0.25150877237319946, 3.7493808269500732, -1.406665563583374, 1.303288221359253, 0.647169828414917, -0.10068581253290176, -1.332538366317749, 1.2612184286117554, -0.7729232907295227, 4.47498893737793, -3.454340934753418, 1.6667455434799194, 0.7961484789848328, 0.6771587133407593, 1.6993062496185303, -1.6355036497116089, 2.3711540699005127, -3.115872859954834, -0.17852053046226501, -3.364374876022339, 0.2592788338661194, 0.9413416385650635, -0.0008115019300021231, 0.6401021480560303, -1.3065812587738037, 2.557356834411621, 6.366466999053955, -1.5302095413208008, 2.28053879737854, -3.1092190742492676, -1.497822642326355, -0.04002634063363075, -0.2402249425649643, -0.9646638631820679, -2.179378032684326, -0.80643230676651, -1.424899935722351, 1.9262685775756836, -1.6859498023986816, 2.11169171333313, -0.6952939033508301, -0.19238825142383575, -2.289666175842285, 0.7849521636962891, -1.89536452293396, 1.7862765789031982, -4.011314868927002, 1.8531067371368408, -2.948780059814453, 3.17236590385437, 3.6058738231658936, 0.5111407041549683, 1.066707730293274, -1.2248120307922363, 0.19761338829994202, -1.8033865690231323, 1.4047019481658936, 2.2415781021118164, 0.16141600906848907, -1.193731665611267, 0.6593030691146851, 3.375652313232422, 0.6216042637825012, -0.36458462476730347, -3.847144603729248, -0.33603793382644653, 2.2667601108551025, 5.355579376220703, -3.4163928031921387, 0.2529279887676239, -0.6295772194862366, -1.5619280338287354, -2.723482131958008, 0.566453218460083, 0.13844417035579681, -0.3242061138153076, -1.0956982374191284, -0.565330982208252, 1.5871936082839966, -0.14155420660972595, 0.689774751663208, 1.2804062366485596, 0.3564062714576721, 3.7324986457824707, 0.7107519507408142, 3.758744478225708, -4.072373390197754, 1.45370352268219, 0.2926218807697296, -1.3179737329483032, -0.875440776348114, -1.377907395362854, 0.7632766366004944, -3.292430877685547, -0.647064208984375, -2.6698055267333984, 1.0635359287261963, -2.3429391384124756, 0.14277024567127228, 0.8630721569061279, 5.100860118865967, 3.616251230239868, -2.1700758934020996, 1.9617528915405273, -2.79910945892334, 0.6526231169700623, -8.062884330749512, 1.00392746925354, 0.503790020942688, -0.03591230511665344, -1.5454403162002563, 2.8480687141418457, 1.035478115081787, 0.12794627249240875, 1.3832038640975952, -0.037367671728134155, 0.08347965031862259, -0.8247997164726257, 0.15501521527767181, 3.6095046997070312, 3.0910794734954834, -1.8866254091262817, 0.5750279426574707, -1.8051764965057373, -1.141900658607483, 1.6051424741744995, -1.9610815048217773, 3.589353084564209, 1.4294958114624023, -0.31888192892074585, 1.2949398756027222, 0.06378832459449768, -0.27091315388679504, 1.128604769706726, -0.14501172304153442, 1.206611156463623, 1.3181158304214478, 0.07905448228120804, 1.1176371574401855, 2.3924107551574707, 0.7207868099212646, -2.6105968952178955, 0.11143892258405685, 1.8836455345153809, 0.19619174301624298, -0.5669466257095337, -2.561763286590576, -1.8726054430007935, 13.10672378540039, 0.083956778049469, -2.4600260257720947, 0.7650105357170105, -1.4576219320297241, 1.3391355276107788, -0.18633081018924713, -0.46448642015457153, 0.5432577133178711, -1.430198073387146, 5.9271240234375, 0.47024762630462646, 0.128400057554245, 0.45145297050476074, 12.182520866394043, 1.8986502885818481, 0.12617047131061554, 0.6209214329719543, 4.007167816162109, 5.804080963134766, -1.692152500152588, 2.063753843307495, -2.914480447769165, 0.31942683458328247, -0.300784707069397, -0.7440245151519775, -0.39516401290893555, 1.4313583374023438, -3.575836658477783, -0.800366222858429, 2.7767250537872314, 0.7943775653839111, -1.18226957321167, -1.2637214660644531, -0.7702426314353943, 1.71475350856781, -1.2402880191802979, -0.4869225025177002, 3.1272335052490234, 3.0684914588928223, 1.2835111618041992, 2.801671028137207, -0.7276297211647034, 0.7958580851554871, -1.3057854175567627, -0.7873096466064453, -0.29991692304611206, -1.1782456636428833, -14.993889808654785, 0.8466197848320007, 0.47538721561431885, 1.1711781024932861, 1.5821751356124878, 0.9713006615638733, -4.093658447265625, -0.42395851016044617, -2.9477341175079346, 0.872427225112915, -3.4656898975372314, -0.9428022503852844, 3.8224692344665527, -3.3788325786590576, 0.968965470790863, -0.6034339070320129, 0.9766750335693359, -3.4064383506774902, -1.0630701780319214, -1.84220290184021, 1.7075226306915283, 1.2378920316696167, 1.517960786819458, -1.890381097793579, -6.180277347564697, 1.9364464282989502, 3.2707693576812744, -1.3093096017837524, 0.6358780860900879, -2.588076591491699, 3.3056228160858154, 1.4046045541763306, -2.4418764114379883, 1.8082202672958374, 3.9034957885742188, -0.6202330589294434, -1.8795968294143677, 0.33302682638168335, 0.06590671837329865, 0.1619892120361328, 2.9373109340667725, -1.3246628046035767, -0.8233541250228882, 2.664828300476074, 4.030198097229004, 0.9222872257232666, 1.2224870920181274, -0.004170452244579792, 0.5716556906700134, -2.069908618927002, -2.6700966358184814, -0.1869543343782425, 4.108627796173096, 3.6192684173583984, -3.200932025909424, -2.6067070960998535, 1.4366188049316406, -0.04913642629981041, 1.1185600757598877, -1.0421370267868042, -1.1048606634140015, -2.267688274383545, -1.3952267169952393, 0.9957505464553833, -0.18475793302059174, -1.6399486064910889, -1.930444359779358, -0.39849936962127686, -3.054459571838379, -0.68544602394104, 0.3675783574581146, -2.238471269607544, 0.03659386560320854, -0.3785509467124939, -0.9754932522773743, 2.032149076461792, 2.594825029373169, 4.908651828765869, 3.381387948989868, 0.30007773637771606, -1.7414319515228271, 0.004016250371932983, 2.544553279876709, -0.6376301646232605, -2.895810842514038, 4.081940650939941, -2.9742748737335205, 0.04613504931330681, -3.7138707637786865, 2.4224517345428467, -0.8503179550170898, -1.3046774864196777, 2.2249345779418945, -0.7481428980827332, -0.016838837414979935, 0.5760946273803711, -2.2201201915740967, -0.6123045682907104, 0.39736008644104004, 1.1792551279067993, -3.7740108966827393, 0.9900003671646118, 2.668022632598877, 1.320015549659729, -4.243505954742432, -2.42336106300354, 3.731146812438965, -0.9641803503036499, -4.238326549530029, -4.584489822387695, -1.4650139808654785, 2.479433298110962, 0.024285607039928436, 0.18071594834327698, 2.294206380844116, -3.5658020973205566, -3.473008871078491, -0.9596815705299377, -0.044429972767829895, 0.5875003337860107, 1.2549209594726562, 0.6099656820297241, -2.6821095943450928, 0.18994590640068054, -0.7068920135498047, 0.8796197175979614, 2.2716689109802246, 1.8417370319366455, 0.4450446665287018, -1.4684410095214844, 0.5871705412864685, -2.78151535987854, 0.19521890580654144, -0.31174397468566895, 3.166212320327759, 0.820822536945343, 3.858778715133667, 1.5283087491989136, -2.1978557109832764, 2.1897480487823486, 0.9490661025047302, 0.5488302111625671, 0.04514212906360626, -3.391932964324951, -1.0873662233352661, 0.6212782263755798, -3.002967357635498, -0.19860781729221344, 1.0525319576263428, -5.127354621887207, 1.9109293222427368, 0.8617729544639587, -3.604196071624756, -2.6689374446868896, -0.25816020369529724, 2.2572901248931885, 0.16335955262184143, -0.1517854630947113, 2.879277467727661, 0.6955550312995911, 2.188601493835449, 1.0476349592208862, -9.753080368041992, 1.2057104110717773, -3.547654390335083, -0.5219990611076355, 3.086106538772583, 1.4474666118621826, 4.401721954345703, 0.30984920263290405, 1.3459863662719727, -0.5260420441627502, -0.19166988134384155, -1.9364826679229736, -1.0643187761306763, -1.478590965270996, -3.516779661178589, -1.7368580102920532, -2.2158544063568115, 2.5583841800689697, -2.0326101779937744, -0.38650113344192505, -1.5106875896453857, -1.8633997440338135, 4.312770843505859, 1.6601239442825317, 2.1094207763671875, 1.1059094667434692, 2.1710376739501953, -1.1879419088363647, 0.28757449984550476, -0.2501314580440521, -1.336682677268982, 1.4343810081481934, 0.03414316102862358, -0.8093821406364441, -1.5193270444869995, 0.042164918035268784, -2.2626218795776367, -1.2927364110946655, -2.744922399520874, 1.8483866453170776, -1.0318691730499268, -1.4351725578308105, -2.3429393768310547, -0.08073439449071884, 0.7815660238265991, -3.684645414352417, 0.33099889755249023, 0.1678433120250702, 1.0072522163391113, -2.902513027191162, 1.2696762084960938, 3.2721328735351562, -0.2243393063545227, -2.3305673599243164, -0.22184623777866364, 0.9182310104370117, 2.903090715408325, -0.8795005083084106, -1.620444416999817, 1.5566900968551636, 0.8686769008636475, 1.2849748134613037, 5.469692230224609, 1.7428354024887085, -2.1494815349578857, 1.599193811416626, -2.6372480392456055, -0.9604837894439697, 0.05108288303017616, 2.176239252090454, 3.357379198074341, -2.6137382984161377, 0.5248180627822876, -0.4394593834877014, 0.7360286116600037, -1.2688636779785156, -2.146364688873291, 0.1333979219198227, -1.3786815404891968, 3.865076780319214, -2.3035407066345215, 1.0864243507385254, -3.624333620071411, 1.6624237298965454, -0.7385838627815247, 0.46381422877311707, -0.9232451319694519, -1.1650466918945312, 1.4351527690887451, -6.111743450164795, -1.5569853782653809, -3.3193180561065674, -0.5120542049407959, -4.131303310394287, -3.3254942893981934, 1.5642502307891846, 0.9836278557777405, -2.7129948139190674, -0.5332196354866028, 0.5432760715484619, -0.39664730429649353, -0.3918658196926117, 1.0776467323303223, -0.3639686405658722, -1.5999263525009155, -0.3518062233924866, 0.9689149260520935, 1.361006259918213, -0.06487977504730225, 0.7024930119514465, 1.1767014265060425, 2.779066801071167, -1.331550121307373, 0.26670393347740173, 1.191916584968567, 0.10266107320785522, 3.6690006256103516, -2.689157485961914, 1.9268465042114258, -1.8250067234039307, -2.2225325107574463, 0.45440250635147095, -1.2542624473571777, -1.179924726486206, 0.7928063273429871, 0.9151325225830078, -3.48282790184021, -2.1229755878448486, -0.7430983185768127, -1.1949963569641113, -0.7912738919258118, -0.7807990908622742, 0.6882213354110718, 2.236238956451416, -2.973766803741455, 0.5504064559936523, 0.0342264398932457, 3.200547218322754, -0.7486987709999084, -2.623271942138672, 2.107159376144409, -0.6870732307434082, -0.7069729566574097, -2.703540802001953, -1.3134956359863281, 1.663641095161438, -0.6108776926994324, 1.1677054166793823, -3.6006314754486084, 0.16131991147994995, 0.6157178282737732, 0.10371313989162445, -0.3620734214782715, -1.577034592628479, -0.6809903383255005, 0.006051409523934126, -0.6207917332649231, -0.9204782247543335, 0.5449600219726562, 4.681361675262451, 1.3143410682678223, -0.27289754152297974, 0.3689455986022949, 1.3908287286758423, -0.5856691002845764, 1.4506655931472778, -0.975297749042511, -1.0792772769927979, 0.568012535572052, 1.665968894958496, -2.3972270488739014, -1.9262464046478271, 0.8515691161155701, 4.229488849639893, -4.131977081298828, 0.7066560387611389, -2.8712282180786133, -2.154352903366089, 0.6967468857765198, -3.531071186065674, -3.0775015354156494, -0.36847183108329773, 0.6060750484466553, 1.4257196187973022, 0.10770298540592194, 3.525041103363037, 0.5710833668708801, -1.3569353818893433, 0.1355646699666977, 11.991108894348145, -1.8583766222000122, -0.70683753490448, -0.6087281107902527, 3.077098846435547, -2.223421812057495, 4.547443389892578, 0.27428457140922546, 0.7868953347206116, -3.820321559906006, 0.2575375437736511, 0.020352285355329514, -3.7305068969726562, 1.0924263000488281, -0.9217255115509033, 1.764223575592041, -1.4878730773925781, 1.2606912851333618, 3.4263432025909424, 1.5200802087783813, -0.8098476529121399, 2.093909502029419, 1.2513389587402344, -3.6553170680999756, 0.755491316318512, 2.0534017086029053, 1.292872428894043, -1.1694551706314087, -3.426098108291626, 3.96134614944458, -0.741802453994751, 0.9527798295021057, 0.08463221788406372, 0.34133628010749817, 0.09083107113838196, 3.695896863937378, -0.9562759399414062, -2.643872022628784, -2.4484450817108154, 0.6970791816711426, 0.6139206886291504, -2.3376333713531494, -0.5339223742485046, -2.3547253608703613, -2.8846309185028076, 3.8866121768951416, 1.0243021249771118, 5.507598876953125, 0.33960628509521484, 2.6316421031951904, -0.18175631761550903, 0.7544311285018921, -0.41675910353660583, -1.9115850925445557, -3.6582868099212646, -4.813596248626709, 0.8839325904846191, 2.991922616958618, 3.7922749519348145, -0.0527762696146965, 0.9747865796089172, -2.8425159454345703, 2.1426331996917725, 1.4952726364135742, 2.0529747009277344, -4.1378655433654785, 2.075140953063965, 3.399308681488037, 0.1440531313419342, 3.9374260902404785, 2.271979570388794, 4.492608070373535, 0.36449626088142395, -0.5496616959571838, -0.49854758381843567, -0.7802652716636658, -3.1510584354400635, -0.8947932124137878, -0.6819770336151123, 1.497186541557312, -0.1228753849864006, 1.3727757930755615, -2.1660287380218506, -3.025277853012085, 2.0444393157958984, 3.1429929733276367, 2.114738702774048, 0.5900133848190308, 1.9390878677368164, 1.7091892957687378, 0.49639347195625305, 0.21309348940849304, -2.515869617462158, -0.3020382821559906, 2.1893467903137207, -2.253918409347534, -1.4673305749893188, 0.09796596318483353, 0.5628668665885925, -1.6270403861999512, -1.4947078227996826, 0.35460805892944336, -2.4304704666137695, -0.9119433164596558, 4.1933135986328125, 5.149189472198486, -0.5138425827026367, 1.0825351476669312, 0.48803451657295227, -0.33130475878715515, -0.06828566640615463, -1.7866415977478027, -5.376700401306152, 3.2621986865997314, -1.5422991514205933, 2.1299591064453125, 1.0536994934082031, -1.5116870403289795, 1.6705065965652466, 1.463442325592041, -2.8748819828033447, 0.04726849123835564, -2.357109785079956, -0.2853347063064575, 0.10497570782899857, -0.3897617757320404, -0.3714509904384613, -1.897987961769104, 1.4946446418762207, 0.5335001945495605, -0.9815199375152588, 6.028464317321777, 2.582141399383545, 1.0259124040603638, -1.4411908388137817, -1.6643061637878418, -0.22140981256961823, 0.9900371432304382, -0.9488655924797058, 0.1527062952518463, 1.291874885559082, -2.9079227447509766, 1.7411068677902222, -2.1156833171844482, -3.7618677616119385, -0.7416689395904541, -2.428358316421509, 2.00696063041687, -0.40329310297966003, -0.8578011989593506, 0.16449539363384247, 3.236445426940918, 0.14899063110351562, -0.3980396091938019, 4.535782814025879, 0.7708728909492493, 0.07818977534770966, -0.7506283521652222, 4.5833234786987305, 2.165374279022217, -0.9454523921012878, 1.234714388847351, -1.950323224067688, 2.6323482990264893, 0.9702596664428711, 2.6758129596710205, -0.5000718832015991, 0.09900873154401779, 0.5495394468307495, -1.2330231666564941, -2.0739502906799316, 0.13572753965854645, -1.7870664596557617, 0.3355456292629242, 1.7121251821517944, -3.807614326477051, 3.500920534133911, -0.28139612078666687, 1.7008048295974731, -2.5933640003204346, -1.8162775039672852, -1.4437376260757446, -0.34864935278892517, -2.8112027645111084, -2.3671796321868896, 0.7739133834838867, 0.03589974343776703, -3.5766773223876953, -1.4013185501098633, -0.2667931020259857, 1.1661362648010254, -1.2513045072555542, -0.9388546943664551, -0.4113582968711853, 1.1362807750701904, 1.0587772130966187, 0.2877524793148041, -0.8563871383666992, 1.4187684059143066, 1.837685227394104, 0.7277138233184814, -1.4088671207427979, -0.270338237285614, 0.5660203695297241, -0.6570596694946289, -0.58710777759552, -2.08632493019104, -0.016180045902729034, -1.1125761270523071, -1.6344335079193115, 5.501218795776367, 1.5570350885391235, -1.3130289316177368, 2.1719796657562256, -2.1992032527923584, 0.19811725616455078, -0.6671677827835083, -3.7107346057891846, 0.3603466749191284, -2.9610137939453125, 1.5890110731124878, -4.216856956481934, 3.0266149044036865, -0.0031321949791163206, -1.104426383972168, 2.388441562652588, -0.5161867141723633, 0.7570246458053589, -3.707846164703369, -1.1746680736541748, 4.669913291931152, 2.9878134727478027, 0.39846816658973694, 2.09928822517395, -0.7997735738754272, 0.15266937017440796, -5.030090808868408, 2.6361002922058105, 0.6269544959068298, 2.4628217220306396, 2.9436075687408447, 1.2880568504333496, -0.015058455988764763, 0.9219341278076172, -0.607315182685852, -0.5828211307525635, -0.025047875940799713, 0.6259222030639648, 3.5566489696502686, -1.82658052444458, -1.41941237449646, 0.5241433382034302, 0.848929226398468, 1.0139492750167847, 0.06865400075912476, 0.44323042035102844, -0.9655999541282654, 0.6792099475860596, -4.6426310539245605, -0.13593244552612305, 1.6021084785461426, 1.616530179977417, -1.303220510482788, 0.6374605298042297, -2.3730530738830566, -0.39345666766166687, -1.2122875452041626, 0.41865789890289307, 2.8671493530273438, 1.411226511001587, -0.06468488276004791, -0.87250155210495, 0.5317888855934143, -1.5622303485870361, 3.1884875297546387, 0.4518391788005829, -1.0443105697631836, 0.22651205956935883, -0.5047691464424133, -2.4210727214813232, 1.3550529479980469, -3.111555814743042, 1.0313395261764526, -1.2445141077041626, -2.8131539821624756, 1.8206573724746704, 0.17228898406028748, -1.3537113666534424, -2.1335182189941406, 1.291203498840332, -0.020355362445116043, 2.023585319519043, 3.6094703674316406, 3.074676275253296, -3.9037063121795654, -1.765155553817749, -1.3911930322647095, 0.5232210159301758, -3.09336519241333, -1.3866512775421143, 1.447953462600708, 1.945512294769287, -0.4433141350746155, -2.3733458518981934, -0.14803336560726166, -2.455240488052368, -7.242879867553711, 0.214543879032135, 3.1062822341918945, 1.6946698427200317, 0.5594149231910706, 1.6128711700439453, 5.547379970550537, -0.841908872127533, 0.0914546400308609, -3.4036762714385986, 2.4963808059692383, 0.7337943315505981, -1.5535317659378052, -1.7220324277877808, 0.807360053062439, -1.016015887260437, 2.2060985565185547, -0.5188533663749695, 0.7494219541549683, 0.48539042472839355, 1.645225167274475, -0.05691080540418625, -1.4158512353897095, -0.7838940024375916, -1.0407499074935913, -2.0751564502716064, 0.7381635904312134, -0.2646360993385315, -0.34985560178756714, -2.4504153728485107, -3.5658953189849854, -1.9677690267562866, 0.8357811570167542, -2.03005313873291, -1.0279648303985596, 4.581236839294434, -1.3059443235397339, -1.680359125137329, 0.5085681676864624, -1.1069697141647339, -4.736124038696289, 0.9057713150978088, 1.770975112915039, 0.19574958086013794, -0.906985342502594, -1.0562981367111206, 0.464663028717041, 0.35566723346710205, -3.4994990825653076, -1.8178383111953735, -0.04850679263472557, -1.0167372226715088, -0.43906018137931824, 0.3509589433670044, 3.563161849975586, 2.661309242248535, 1.1145230531692505, 0.6494654417037964, 1.222275733947754, -0.5862347483634949, -3.470327138900757, -1.9441866874694824, -0.7414513230323792, 2.6035237312316895, -0.7525562047958374, 3.1167914867401123, 3.501516103744507, -2.8273706436157227, 2.744713544845581, -1.668601155281067, 0.9891519546508789, -5.222306251525879, 0.07468268275260925, 3.1480371952056885, 0.7285470962524414, 1.0157132148742676, 2.4566564559936523, -0.5756118297576904, 0.6099761128425598, -2.2245850563049316, 2.319431781768799, -2.0917186737060547, -1.9743953943252563, -0.39893245697021484, -0.5437445044517517, -0.4646870493888855, 0.27340883016586304, 3.7427544593811035, -2.9179646968841553, -1.336694359779358, 3.3535897731781006, -2.05961275100708, -1.538548469543457, 2.0712788105010986, -0.943498969078064, 2.389683723449707, 0.7161157131195068, -1.0233166217803955, 1.1212354898452759, -0.1035044938325882, -2.4699161052703857, 0.8893288373947144, -4.327083587646484, 1.1856598854064941, -1.6603585481643677, 0.3689350485801697, 0.32807457447052, -0.7334538698196411, -0.7015814185142517, -1.672313928604126, -1.7879654169082642, 1.1650848388671875, 0.8563681244850159, -0.909598708152771, 2.416292905807495, -3.6201741695404053, 0.37015315890312195, -0.370521605014801, 1.7447283267974854, -1.0009957551956177, 3.968247890472412, 1.5805283784866333, 0.9952154159545898, -1.5320806503295898, 4.872829437255859, 1.3188817501068115, 1.9529534578323364, 2.0308988094329834, 0.9673594236373901, 1.3463197946548462, -0.9107927083969116, -0.3997569978237152, -1.9528834819793701, -1.6069432497024536, 3.466346502304077, 0.12414748966693878, 0.14437758922576904, -0.9898150563240051, -0.5907272100448608, -4.373849391937256, -1.8090498447418213, 1.3061069250106812, 1.03915536403656, -3.576190233230591, -3.018995523452759, 2.2935051918029785, -0.4263838529586792, -1.1398653984069824, 0.5796631574630737, -0.3183952569961548, 0.18423491716384888, -1.6775120496749878, 1.5378092527389526, -2.1207845211029053, 1.8362950086593628, -4.096595764160156, -2.0316810607910156, -2.7961583137512207, 0.09373252838850021, -4.098615646362305, -1.3269479274749756, -1.150112271308899, 3.1111443042755127, 0.46916645765304565, -0.6254833340644836, -0.28024545311927795, -2.281543016433716, 0.02060355246067047, 0.914459228515625, 0.4279063045978546, -0.39880838990211487, -1.2398172616958618, -0.7226639986038208, -1.233712911605835, -1.240646481513977, 2.430349349975586, 2.046504020690918, -4.28797721862793, 1.8511812686920166, 0.9983709454536438, -2.432668685913086, 1.6834880113601685, 2.8816912174224854, -1.5362757444381714, -2.253502607345581, 0.5803529024124146, -1.3674743175506592, 1.1818135976791382, 2.077272891998291, 0.17169049382209778, -2.2405898571014404, 1.1740972995758057, 2.244443893432617, -0.9456135630607605, 0.9439265727996826, 0.7892220616340637, 3.96575665473938, -0.493839830160141, 2.3697097301483154, -0.009207414463162422, 2.6646225452423096, -1.6262568235397339, 1.2107611894607544, -0.6763046383857727, 1.323350191116333, -1.478744626045227, -1.1471877098083496, -0.44801485538482666, -4.56576681137085, -1.0133754014968872, -0.5269426107406616, -1.9273234605789185, -0.3618241846561432, -1.3431318998336792, -0.7750897407531738, -1.5644277334213257, 4.988955497741699, 1.1142116785049438, -0.21449661254882812, -1.2251636981964111, 1.73430335521698, -3.507189989089966, 3.8707668781280518, -2.193535327911377, 2.365574598312378, -1.4129364490509033, -0.9596342444419861, 1.7364981174468994, -1.635825514793396, -0.8875557780265808, -0.03023136593401432, 3.2057816982269287, -4.037458419799805, -0.4973633587360382, 1.463499665260315, -2.9746413230895996, 1.6640409231185913, 1.8285837173461914, -2.6554784774780273, -2.817652702331543, -6.790528774261475, -3.5101826190948486, 0.3276432752609253, 1.4472004175186157, -1.8637717962265015, 2.695810317993164, 1.4704816341400146, -1.5238083600997925, 5.455532550811768, 0.28357651829719543, -2.9550771713256836, 1.0383741855621338, -1.3466705083847046, -2.86643385887146, 2.0311973094940186, -1.4647434949874878, 1.0244545936584473, 0.2022058367729187, -0.46594300866127014, -0.2166946530342102, 1.8757550716400146, -1.387061357498169, 0.4733601212501526, 1.8070908784866333, -0.5445902943611145, 3.2845797538757324, -0.5300067663192749, 2.781459331512451, 0.1670663058757782, 1.1488511562347412, -4.075616836547852, 2.87308669090271, -0.18584191799163818, -1.4615261554718018, -0.6696595549583435, 2.913989305496216, 1.178194522857666, -1.882035732269287, -1.1733531951904297, -0.2581917941570282, -0.431410014629364, 1.5509166717529297, 0.47399452328681946, 0.2196546196937561, -0.28003981709480286, -2.761229991912842, 2.8038370609283447, -2.7818169593811035, 0.9559232592582703, -1.2186331748962402, 1.011922836303711, -0.7494171857833862, -0.12077418714761734, -0.5712772607803345, 11.265769958496094, 1.2020409107208252, -0.7674654126167297, -4.158464431762695, -0.24319367110729218, 2.8033804893493652, -1.7402042150497437, 1.344875693321228, 2.8617451190948486, -0.08667337894439697, 1.3742705583572388, -3.4999325275421143, 1.740967869758606, 4.722598075866699, -1.6986045837402344, 1.557173728942871, -1.8272289037704468, 0.11562827229499817, -1.9460066556930542, -2.0729007720947266, -0.13064004480838776, -2.4428515434265137, 1.4256292581558228, 14.975494384765625, 0.5855274200439453, 1.1821694374084473, -0.9102262854576111, -1.4257317781448364, -0.106757752597332, -1.23264741897583, -3.0578157901763916, -3.7913877964019775, 0.7369526624679565, 1.953214168548584, -1.0339540243148804, -0.9415838718414307, 1.4643365144729614, 1.2416191101074219, 0.6783847212791443, -0.08394879847764969, 3.468412160873413, 1.034348726272583, 2.4640159606933594, 0.14781101047992706, 0.9703375101089478, 0.8086592555046082, 4.775177001953125, -1.3223923444747925, 2.4966442584991455, 4.767025947570801, -0.1106751561164856, -2.0995535850524902, -0.7213181257247925, 3.431833028793335, 3.4650866985321045, 0.04182257503271103, -0.6635536551475525, -0.34285449981689453, -3.237125873565674, 0.44104114174842834, -0.3147921860218048, 0.23583579063415527, -2.8303165435791016, -0.45222383737564087, 0.791172206401825, -0.9878202080726624, 1.3816982507705688, 1.6611895561218262, 0.5794156789779663, 4.999673366546631, 2.2820000648498535, -2.8133201599121094, 0.18131916224956512, -1.8410125970840454, -0.7400429248809814, -0.984833300113678, -4.008602619171143, 2.5191237926483154, 0.7062241435050964, -1.3996086120605469, -0.6336236596107483, 1.3009310960769653, -1.5442769527435303, -0.6333076357841492, -0.19613642990589142, 3.2519359588623047, -0.6108465790748596, -0.6262597441673279, -6.341744899749756, -4.6014862060546875, -0.2354082465171814, 1.6761077642440796, -1.4143096208572388, -2.599247932434082, 1.038472294807434, -1.9787172079086304, -0.36729055643081665, 2.9015560150146484, 2.8507957458496094, -1.6193358898162842, -2.0643575191497803, 1.9624525308609009, -3.835385322570801, 2.8667471408843994, 0.27892881631851196, -0.6786885857582092, 3.0281877517700195, -2.010404586791992, -1.8009282350540161, -5.578190326690674, 0.02782355062663555, -0.9508469700813293, 0.6150532960891724, 1.05558180809021, 0.04401281476020813, -0.22226372361183167, 3.5475049018859863, 3.4016613960266113, -0.5099337100982666, -2.993002414703369, -2.3700313568115234, -1.00558602809906, -2.924772262573242, -1.5238499641418457, 0.27600523829460144, -1.3807899951934814, -2.0390379428863525, -2.2835869789123535, -0.398637592792511, 0.06288304179906845, 0.6762123107910156, -0.06818591803312302, -0.2817782759666443, 3.3426332473754883, 1.563596487045288, -3.823151111602783, 2.713432788848877, -5.1034674644470215, 1.9776020050048828, -1.0891026258468628, 1.2898683547973633, -2.009183645248413, 0.7728960514068604, -1.9474979639053345, 3.443713665008545, 2.0354866981506348, 1.3253461122512817, -3.5798187255859375, -2.3078811168670654, 1.5482549667358398, 0.9140060544013977, -0.7079960107803345, -8.541589736938477, -3.6410365104675293, 1.3913458585739136, -0.11465086042881012, -2.1913650035858154, -0.7148112058639526, 0.49348488450050354, -2.0419299602508545, -2.8559460639953613, -1.8050485849380493, 2.1759095191955566, 0.9568402171134949, 1.7411733865737915, 0.7075430750846863, -3.9430229663848877, -0.19484184682369232]\n"
     ]
    }
   ],
   "source": [
    "print(embedded_prompt)\n",
    "res = client_gds.run_cypher('''\n",
    "CALL db.index.vector.queryNodes(\"product_text_embeddings\", 10, $queryVector)\n",
    "YIELD node AS product, score\n",
    "RETURN product.productCode AS productCode,\n",
    "    product.text AS text,\n",
    "    score\n",
    "''', params={'queryVector': embedded_prompt})"
   ]
  },
  {
   "cell_type": "code",
   "execution_count": 14,
   "metadata": {},
   "outputs": [
    {
     "name": "stdout",
     "output_type": "stream",
     "text": [
      "111609 ##Product\n",
      "Name: 200 den 1p Tights\n",
      "Type: Underwear Tights\n",
      "Group: Socks & Tights\n",
      "Garment Type: Socks and Tights\n",
      "Description: Opaque matt tights. 200 denier. 0.7259818315505981\n",
      "\n",
      "215589 ##Product\n",
      "Name: Mama 40 den 2p Tights\n",
      "Type: Underwear Tights\n",
      "Group: Socks & Tights\n",
      "Garment Type: Socks and Tights\n",
      "Description: Tights with extra space for a growing tummy. 40 denier. 0.7246626615524292\n",
      "\n",
      "156227 ##Product\n",
      "Name: Box 4p Kneehighs\n",
      "Type: Underwear Tights\n",
      "Group: Socks & Tights\n",
      "Garment Type: Socks and Tights\n",
      "Description: Four pairs of knee highs. 20 denier. 0.7221738696098328\n",
      "\n",
      "417951 ##Product\n",
      "Name: Support 20 den 1p tights\n",
      "Type: Underwear Tights\n",
      "Group: Socks & Tights\n",
      "Garment Type: Socks and Tights\n",
      "Description: Semi shiny tights that shape the tummy, thighs and calves while also encouraging blood circulation in the legs. Elasticated waist. 20 denier. 0.7201794385910034\n",
      "\n",
      "234421 ##Product\n",
      "Name: Mama 200 den Tights\n",
      "Type: Underwear Tights\n",
      "Group: Socks & Tights\n",
      "Garment Type: Socks and Tights\n",
      "Description: Matt, opaque tights with extra room for a growing tummy. 200 denier. 0.7192153930664062\n",
      "\n",
      "645423 ##Product\n",
      "Name: ROBBIE turtleneck\n",
      "Type: Scarf\n",
      "Group: Accessories\n",
      "Garment Type: Woven/Jersey/Knitted mix Baby\n",
      "Description: Baby Exclusive. Polo-neck collar in soft, rib-knit wool. 0.7166521549224854\n",
      "\n",
      "156231 ##Product\n",
      "Name: Box 4p Tights\n",
      "Type: Underwear Tights\n",
      "Group: Socks & Tights\n",
      "Garment Type: Socks and Tights\n",
      "Description: Matt tights with an elasticated waist. 20 denier. 0.7127666473388672\n",
      "\n",
      "324946 ##Product\n",
      "Name: Control Top 200 den 1p Tights\n",
      "Type: Underwear Tights\n",
      "Group: Socks & Tights\n",
      "Garment Type: Socks and Tights\n",
      "Description: Matt opaque tights with a control top to hold in the tummy and bum. 200 denier. 0.712489664554596\n",
      "\n",
      "240561 ##Product\n",
      "Name: Support 70 den 1p Tights\n",
      "Type: Underwear Tights\n",
      "Group: Socks & Tights\n",
      "Garment Type: Socks and Tights\n",
      "Description: Semi shiny tights that shape the tummy, thighs and calves, while also encouraging blood circulation in the legs. Elasticated waist. 70 denier. 0.7124308347702026\n",
      "\n",
      "228257 ##Product\n",
      "Name: 20 den 2p Tights\n",
      "Type: Underwear Tights\n",
      "Group: Socks & Tights\n",
      "Garment Type: Socks and Tights\n",
      "Description: Tights with an elasticated waist. 20 denier. 0.7102261781692505\n",
      "\n"
     ]
    }
   ],
   "source": [
    "for rows in res.iterrows():\n",
    "    print(rows[1]['productCode'], rows[1]['text'], rows[1]['score'])\n",
    "    print()\n"
   ]
  },
  {
   "cell_type": "markdown",
   "metadata": {},
   "source": [
    "### Now using the langchain integration of neo4j"
   ]
  },
  {
   "cell_type": "code",
   "execution_count": 18,
   "metadata": {},
   "outputs": [],
   "source": [
    "from langchain.vectorstores.neo4j_vector import Neo4jVector\n",
    "from database.neo4jConnection_utils import get_credential\n",
    "\n",
    "cred = get_credential()\n",
    "vector_search = Neo4jVector.from_existing_index(\n",
    "    embedding=embedding_model,\n",
    "    url=cred['NEO4J_URI'],\n",
    "    username=cred['NEO4J_USERNAME'],\n",
    "    password=cred['NEO4J_PASSWORD'],\n",
    "    index_name='product_text_embeddings'\n",
    ")   \n"
   ]
  },
  {
   "cell_type": "code",
   "execution_count": 19,
   "metadata": {},
   "outputs": [
    {
     "name": "stdout",
     "output_type": "stream",
     "text": [
      "10 <class 'langchain_core.documents.base.Document'>\n"
     ]
    }
   ],
   "source": [
    "retr = vector_search.similarity_search('''##Product\n",
    "Name: Box 4p Kneehighs\n",
    "Type: Underwear Tights\n",
    "Group: Socks & Tights\n",
    "Garment Type: Socks and Tights\n",
    "Description: Four pairs of knee highs. 20 denier.''', k=10)\n",
    "\n",
    "print(len(retr), type(retr[0]))"
   ]
  },
  {
   "cell_type": "code",
   "execution_count": null,
   "metadata": {},
   "outputs": [],
   "source": [
    "for i, stuff in enumerate(retr):\n",
    "    print(f''' ######## RETRIEVAL N{i+1} ########\n",
    "    {stuff.page_content}\n",
    "    ###########################################\n",
    "    \\n\n",
    "    ''')"
   ]
  },
  {
   "cell_type": "markdown",
   "metadata": {},
   "source": [
    "### NODE EMBEDDING FOR GRAPH DATASCIENCE"
   ]
  },
  {
   "cell_type": "code",
   "execution_count": 15,
   "metadata": {},
   "outputs": [
    {
     "data": {
      "application/vnd.jupyter.widget-view+json": {
       "model_id": "4da95418f9864bc192955ce2195d0fe5",
       "version_major": 2,
       "version_minor": 0
      },
      "text/plain": [
       "K-Nearest Neighbours:   0%|          | 0/100 [00:00<?, ?%/s]"
      ]
     },
     "metadata": {},
     "output_type": "display_data"
    }
   ],
   "source": [
    "from database.create_db import create_node_embedding\n",
    "\n",
    "knn_stats = create_node_embedding(client_gds)"
   ]
  },
  {
   "cell_type": "code",
   "execution_count": 16,
   "metadata": {},
   "outputs": [
    {
     "name": "stdout",
     "output_type": "stream",
     "text": [
      "ranIterations                                                             7\n",
      "didConverge                                                            True\n",
      "nodePairsConsidered                                                 7068227\n",
      "preProcessingMillis                                                       0\n",
      "computeMillis                                                          2910\n",
      "writeMillis                                                            1089\n",
      "postProcessingMillis                                                      0\n",
      "nodesCompared                                                         13296\n",
      "relationshipsWritten                                                 125497\n",
      "similarityDistribution    {'min': 0.750030517578125, 'p5': 0.87169265747...\n",
      "configuration             {'writeProperty': 'score', 'writeRelationshipT...\n",
      "Name: 0, dtype: object\n"
     ]
    }
   ],
   "source": [
    "print(knn_stats)"
   ]
  },
  {
   "cell_type": "code",
   "execution_count": 7,
   "metadata": {},
   "outputs": [
    {
     "name": "stdout",
     "output_type": "stream",
     "text": [
      "The autoreload extension is already loaded. To reload it, use:\n",
      "  %reload_ext autoreload\n",
      "<class 'langchain_community.vectorstores.neo4j_vector.Neo4jVector'>\n"
     ]
    }
   ],
   "source": [
    "%load_ext autoreload\n",
    "%autoreload 2\n",
    "import store_generator.personnalised_reco as requests\n",
    "\n",
    "customer_id = '0132cd2eb3c6b1f66784f65f94ddd8352add2653e0caf5fc564fcfe4eb977863'\n",
    "credentials = cred\n",
    "res_sim = requests.kg_personalized_search_gen(customer_id, credentials, embedding_model)\n",
    "\n",
    "print(type(res_sim))"
   ]
  },
  {
   "cell_type": "code",
   "execution_count": 26,
   "metadata": {},
   "outputs": [
    {
     "name": "stdout",
     "output_type": "stream",
     "text": [
      "<class 'str'>\n"
     ]
    }
   ],
   "source": [
    "res_gds = requests.kg_recommendations_app_dict({\"customer_id\":customer_id,\n",
    "                                                \"credentials\": credentials,\n",
    "                                                  \"k\":15})\n",
    "\n",
    "print(type(res_gds))"
   ]
  },
  {
   "cell_type": "code",
   "execution_count": 36,
   "metadata": {},
   "outputs": [
    {
     "name": "stdout",
     "output_type": "stream",
     "text": [
      "4\n"
     ]
    }
   ],
   "source": [
    "search_prompt = '''type: swimsuit'''\n",
    "ret = res_sim.similarity_search(search_prompt)\n",
    "\n",
    "print(len(ret))"
   ]
  },
  {
   "cell_type": "code",
   "execution_count": 37,
   "metadata": {},
   "outputs": [
    {
     "name": "stdout",
     "output_type": "stream",
     "text": [
      "page_content='##Product\n",
      "Name: Greece Shape Swimsuit\n",
      "Type: Bikini top\n",
      "Group: Swimwear\n",
      "Garment Type: Swimwear\n",
      "Description: Fully lined swimsuit with a sculpting effect that holds in and shapes the tummy and bum. Cups with removable inserts, wide, adjustable shoulder straps and decorative gathers in the sides.\n",
      "url: https://representative-domain/product/811777' metadata={'source': 'https://representative-domain/product/811777', 'purchaseScore': 2, 'searchScore': 0.6903656721115112}\n",
      "\n",
      "page_content='##Product\n",
      "Name: Lizzy Dancesuit\n",
      "Type: Bodysuit\n",
      "Group: Garment Upper body\n",
      "Garment Type: Accessories\n",
      "Description: Leotard in fast-drying functional fabric with decorative gathers at the top, crossover straps at the back and 3/4-length sleeves. Lined gusset.\n",
      "url: https://representative-domain/product/705466' metadata={'source': 'https://representative-domain/product/705466', 'purchaseScore': 0, 'searchScore': 0.6937686204910278}\n",
      "\n",
      "page_content='##Product\n",
      "Name: Veronica swimsuit\n",
      "Type: Swimsuit\n",
      "Group: Swimwear\n",
      "Garment Type: Jersey Fancy\n",
      "Description: Fully lined, V-neck swimsuit with ties at the back of the neck and a high cut at the back..\n",
      "url: https://representative-domain/product/768915' metadata={'source': 'https://representative-domain/product/768915', 'purchaseScore': 0, 'searchScore': 0.6929170489311218}\n",
      "\n",
      "page_content='##Product\n",
      "Name: SID hat\n",
      "Type: Hat/beanie\n",
      "Group: Accessories\n",
      "Garment Type: Woven/Jersey/Knitted mix Baby\n",
      "Description: Baby Exclusive. Hat in soft, rib-knit wool.\n",
      "url: https://representative-domain/product/645422' metadata={'source': 'https://representative-domain/product/645422', 'purchaseScore': 0, 'searchScore': 0.691137433052063}\n",
      "\n"
     ]
    }
   ],
   "source": [
    "i = 0\n",
    "while i < len(ret):\n",
    "    print(ret[i])\n",
    "    print()\n",
    "\n",
    "    i += 1"
   ]
  },
  {
   "cell_type": "code",
   "execution_count": 29,
   "metadata": {},
   "outputs": [
    {
     "name": "stdout",
     "output_type": "stream",
     "text": [
      "##Product\n",
      "Name: SF Caprio blk short sleeve\n",
      "Type: Dress\n",
      "Group: Garment Full body\n",
      "Garment Type: Special Offers\n",
      "Description: Long, fitted, smocked dress in a crisp organic cotton weave. Square neckline and concealed elastication at the top to hold the dress in place. Wide, half-length sleeves with a voluminous puff at the shoulders and smocking at the cuffs. Gathered seam at the hem and a flared skirt. Unlined.\n",
      "url: https://representative-domain/product/868544\n",
      "score:30.432336390018463\n",
      "\n",
      "##Product\n",
      "Name: Roberto\n",
      "Type: Sweater\n",
      "Group: Garment Upper body\n",
      "Garment Type: Knitwear\n",
      "Description: Jumper in a soft cable knit containing some wool with a rib-knit stand-up collar and wide raglan sleeves with foldover ribbing at the cuffs. The polyester content of the jumper is recycled.\n",
      "url: https://representative-domain/product/788651\n",
      "score:27.913103342056274\n",
      "\n",
      "##Product\n",
      "Name: Price TEE TVP\n",
      "Type: T-shirt\n",
      "Group: Garment Upper body\n",
      "Garment Type: Jersey Fancy\n",
      "Description: T-shirt in soft cotton jersey with ribbing around the neckline.\n",
      "url: https://representative-domain/product/816589\n",
      "score:27.723543286323547\n",
      "\n",
      "##Product\n",
      "Name: Pluto OTS\n",
      "Type: Blouse\n",
      "Group: Garment Upper body\n",
      "Garment Type: Blouses\n",
      "Description: Off-the-shoulder blouse in a cotton weave with elasticated smocking and a short frill trim at the top, 3/4-length raglan sleeves with a slit and ties at the cuffs, and a rounded hem.\n",
      "url: https://representative-domain/product/690644\n",
      "score:26.832805275917053\n",
      "\n",
      "##Product\n",
      "Name: Winnie bikini top\n",
      "Type: Bikini top\n",
      "Group: Swimwear\n",
      "Garment Type: Jersey Fancy\n",
      "Description: Lined, non-wired triangle bikini top with wide flounces. Adjustable shoulder straps, cups with removable inserts that shape the bust and provide good support, and ties at the back.\n",
      "url: https://representative-domain/product/899129\n",
      "score:24.677209794521332\n",
      "\n",
      "##Product\n",
      "Name: Tanya mockneck LS\n",
      "Type: Top\n",
      "Group: Garment Upper body\n",
      "Garment Type: Jersey Basic\n",
      "Description: Fitted top in soft, ribbed viscose jersey with a turtle neck and long sleeves.\n",
      "url: https://representative-domain/product/818754\n",
      "score:24.437326550483704\n",
      "\n",
      "##Product\n",
      "Name: Janet felt hat\n",
      "Type: Hat/brim\n",
      "Group: Accessories\n",
      "Garment Type: Accessories\n",
      "Description: Hat in felted wool with an imitation leather band that has a metal decoration. Width of brim 9 cm.\n",
      "url: https://representative-domain/product/818890\n",
      "score:23.872011244297028\n",
      "\n",
      "##Product\n",
      "Name: Mini cheeky tanga\n",
      "Type: Swimwear bottom\n",
      "Group: Swimwear\n",
      "Garment Type: Swimwear\n",
      "Description: Fully lined bikini bottoms with a low waist, narrow straps and small metal rings at the sides and cutaway coverage at the back.\n",
      "url: https://representative-domain/product/853391\n",
      "score:21.57934534549713\n",
      "\n",
      "##Product\n",
      "Name: Opera dress\n",
      "Type: Dress\n",
      "Group: Garment Full body\n",
      "Garment Type: Jersey Fancy\n",
      "Description: Sleeveless, calf-length dress in lace with chiffon appliqués, a V-neck and narrow, adjustable shoulder straps. Gathered seam at the waist, zip at the back and a gently flared skirt. Jersey lining.\n",
      "url: https://representative-domain/product/707075\n",
      "score:20.766017615795135\n",
      "\n",
      "##Product\n",
      "Name: Mini tiny tri top\n",
      "Type: Bikini top\n",
      "Group: Swimwear\n",
      "Garment Type: Swimwear\n",
      "Description: Lined, non-wired triangle bikini top with a small metal ring at the front. Adjustable shoulder straps, cups with removable inserts that shape the bust and provide good support, and ties at the back.\n",
      "url: https://representative-domain/product/853390\n",
      "score:19.82496017217636\n",
      "\n",
      "##Product\n",
      "Name: Jasper pencil J\n",
      "Type: Skirt\n",
      "Group: Garment Lower body\n",
      "Garment Type: Skirts\n",
      "Description: Knee-length, fitted skirt in patterned jersey with a high waist with concealed elastication, a seam centre front and slit at the hem.\n",
      "url: https://representative-domain/product/675281\n",
      "score:19.431491315364838\n",
      "\n",
      "##Product\n",
      "Name: Vacation HW wide cropped\n",
      "Type: Trousers\n",
      "Group: Garment Lower body\n",
      "Garment Type: Trousers\n",
      "Description: Ankle-length trousers in a linen and viscose weave with a high waist, pleats at the front, elastication at the back and a zip fly and buttons. Side pockets, fake welt back pockets and straight, wide legs.\n",
      "url: https://representative-domain/product/730566\n",
      "score:18.817546784877777\n",
      "\n",
      "##Product\n",
      "Name: Winnie bikini bottom\n",
      "Type: Swimwear bottom\n",
      "Group: Swimwear\n",
      "Garment Type: Jersey Fancy\n",
      "Description: Fully lined bikini bottoms with a wide flounce at the sides and cutaway coverage at the back.\n",
      "url: https://representative-domain/product/899225\n",
      "score:18.679216504096985\n",
      "\n",
      "##Product\n",
      "Name: Kirsten\n",
      "Type: Sweater\n",
      "Group: Garment Upper body\n",
      "Garment Type: Knitwear\n",
      "Description: Jumper in a cable-knit cotton blend with ribbing around the neckline, cuffs and hem.\n",
      "url: https://representative-domain/product/504155\n",
      "score:18.66316819190979\n",
      "\n",
      "##Product\n",
      "Name: Charlotte Kimono\n",
      "Type: Blouse\n",
      "Group: Garment Upper body\n",
      "Garment Type: Outdoor\n",
      "Description: Knee-length jacket in airy, patterned chiffon with low dropped shoulders and wide, 3/4-length sleeves. Wrapover front with a tie belt at the waist.\n",
      "url: https://representative-domain/product/609355\n",
      "score:17.969973385334015\n"
     ]
    }
   ],
   "source": [
    "print(res_gds)"
   ]
  },
  {
   "cell_type": "markdown",
   "metadata": {},
   "source": [
    "## TESTING THE FINAL STORE GENERATION ON A CUSTOMER ID\n",
    "- customerID: '0132cd2eb3c6b1f66784f65f94ddd8352add2653e0caf5fc564fcfe4eb977863'"
   ]
  },
  {
   "cell_type": "code",
   "execution_count": 5,
   "metadata": {},
   "outputs": [],
   "source": [
    "%load_ext autoreload\n",
    "%autoreload 2\n",
    "\n",
    "from store_generator.prompt_chain import chain_gen\n",
    "from langchain_community.llms import Ollama\n",
    "from database.neo4jConnection_utils import get_credential\n",
    "\n",
    "cred = get_credential()\n",
    "llm = Ollama(model=cred['LLM'], temperature=0.2)\n",
    "\n",
    "customer_id = '0132cd2eb3c6b1f66784f65f94ddd8352add2653e0caf5fc564fcfe4eb977863'\n",
    "gen = chain_gen(customer_id, llm, cred, embedding_model)"
   ]
  },
  {
   "cell_type": "code",
   "execution_count": 8,
   "metadata": {},
   "outputs": [],
   "source": [
    "search_prompt = 'cute swimsuit body'\n",
    "ret = gen[\"output\"].invoke({'searchPrompt':search_prompt, \n",
    "                  'customerName':'Mimi', \n",
    "                  'timeOfYear':'Jul, 2024'})"
   ]
  },
  {
   "cell_type": "code",
   "execution_count": 9,
   "metadata": {},
   "outputs": [
    {
     "name": "stdout",
     "output_type": "stream",
     "text": [
      "<class 'dict'>\n",
      "<class 'str'>\n",
      "<class 'langchain_core.runnables.base.RunnableSequence'>\n"
     ]
    }
   ],
   "source": [
    "\n",
    "print(type(gen))\n",
    "print(type(ret))\n",
    "print(type(gen['prompt']))"
   ]
  },
  {
   "cell_type": "code",
   "execution_count": 10,
   "metadata": {},
   "outputs": [],
   "source": [
    "prompt = gen['prompt'].invoke({'searchPrompt':search_prompt, \n",
    "                  'customerName':'Mimi', \n",
    "                  'timeOfYear':'Jul, 2024'})"
   ]
  },
  {
   "cell_type": "code",
   "execution_count": 11,
   "metadata": {},
   "outputs": [],
   "source": [
    "\n",
    "RESULT_PATH = './result/'\n",
    "with open(RESULT_PATH + \"answer.txt\", \"w\") as file1:\n",
    "    file1.write(ret)\n",
    "\n",
    "# Write the second string to another file\n",
    "with open(RESULT_PATH + \"prompt.txt\", \"w\") as file2:\n",
    "    file2.write(prompt)"
   ]
  },
  {
   "cell_type": "markdown",
   "metadata": {},
   "source": [
    "# THE GRADIO INTERFACE"
   ]
  },
  {
   "cell_type": "code",
   "execution_count": 2,
   "metadata": {},
   "outputs": [],
   "source": [
    "from database.create_db import get_credential\n",
    "creds = get_credential()"
   ]
  },
  {
   "cell_type": "code",
   "execution_count": null,
   "metadata": {},
   "outputs": [],
   "source": [
    "%load_ext autoreload\n",
    "%autoreload 2\n",
    "\n",
    "from interface import gradio_interace as gri\n",
    "\n",
    "model_ui = gri.ModelInterface(creds)\n",
    "interface = model_ui.get_interface()\n",
    "interface.launch(debug=True)"
   ]
  },
  {
   "cell_type": "markdown",
   "metadata": {},
   "source": [
    "## THE GRADIO INTERFACE V2"
   ]
  },
  {
   "cell_type": "code",
   "execution_count": 17,
   "metadata": {},
   "outputs": [],
   "source": [
    "from database.create_db import get_credential\n",
    "creds = get_credential()"
   ]
  },
  {
   "cell_type": "code",
   "execution_count": 19,
   "metadata": {},
   "outputs": [
    {
     "name": "stdout",
     "output_type": "stream",
     "text": [
      "Running on local URL:  http://127.0.0.1:7860\n",
      "\n",
      "To create a public link, set `share=True` in `launch()`.\n"
     ]
    },
    {
     "data": {
      "text/html": [
       "<div><iframe src=\"http://127.0.0.1:7860/\" width=\"100%\" height=\"500\" allow=\"autoplay; camera; microphone; clipboard-read; clipboard-write;\" frameborder=\"0\" allowfullscreen></iframe></div>"
      ],
      "text/plain": [
       "<IPython.core.display.HTML object>"
      ]
     },
     "metadata": {},
     "output_type": "display_data"
    },
    {
     "data": {
      "text/plain": []
     },
     "execution_count": 19,
     "metadata": {},
     "output_type": "execute_result"
    },
    {
     "name": "stdout",
     "output_type": "stream",
     "text": [
      "Content written to ./result/prompt_00\n",
      "Content written to ./result/out_00\n",
      "Content written to ./result/prompt_01.txt\n",
      "Content written to ./result/out_01.txt\n"
     ]
    }
   ],
   "source": [
    "import interface.interfacev2 as uiv2\n",
    "\n",
    "engine = uiv2.ModelInterface(creds)\n",
    "gradio_ui = engine.get_interface()\n",
    "gradio_ui.launch()\n"
   ]
  },
  {
   "cell_type": "code",
   "execution_count": null,
   "metadata": {},
   "outputs": [],
   "source": []
  }
 ],
 "metadata": {
  "kernelspec": {
   "display_name": "Python 3",
   "language": "python",
   "name": "python3"
  },
  "language_info": {
   "codemirror_mode": {
    "name": "ipython",
    "version": 3
   },
   "file_extension": ".py",
   "mimetype": "text/x-python",
   "name": "python",
   "nbconvert_exporter": "python",
   "pygments_lexer": "ipython3",
   "version": "3.12.4"
  }
 },
 "nbformat": 4,
 "nbformat_minor": 2
}
